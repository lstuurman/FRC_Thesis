{
 "cells": [
  {
   "cell_type": "code",
   "execution_count": null,
   "metadata": {},
   "outputs": [],
   "source": [
    "import pandas as pd\n",
    "import numpy as np\n",
    "import glob\n",
    "from numpy.linalg import norm\n",
    "import re\n",
    "from scipy.spatial.distance import euclidean\n",
    "import sys\n",
    "import matplotlib.pyplot as plt\n",
    "sys.path.insert(0,'../')\n",
    "from OrderNpersist import to_vecs\n",
    "import time"
   ]
  },
  {
   "cell_type": "code",
   "execution_count": null,
   "metadata": {},
   "outputs": [],
   "source": [
    "def handle_boundaries(cell_track,pr = False):\n",
    "    # look for boundary crossings in any\n",
    "    # of the coordinates\n",
    "    cell_track2 = cell_track.copy()\n",
    "    for i in range(len(cell_track) - 1):\n",
    "        dif = np.subtract(cell_track[i],cell_track[i+1])\n",
    "        for j,coordinate in enumerate(dif):\n",
    "            if coordinate > 32:\n",
    "                # went over boundary from 64 -> 0\n",
    "                cell_track2[:i + 1,j] -= 64\n",
    "\n",
    "            elif coordinate < -32:\n",
    "                # form 0 -> 64\n",
    "\n",
    "                cell_track2[:i + 1,j] += 64\n",
    "    return cell_track2"
   ]
  },
  {
   "cell_type": "code",
   "execution_count": null,
   "metadata": {},
   "outputs": [],
   "source": [
    "def build_csv(path):\n",
    "    \"\"\" Path is folder containing all celltracks of all max-lambda combinations.\n",
    "    \"\"\"\n",
    "    # find unique param pairs in folder :\n",
    "    num_ptrn = '[-+]?\\d*\\.\\d+|\\d+'\n",
    "    gtypes = ['ER','BA', 'WS', 'PW','GM']\n",
    "    folder = glob.glob(path)\n",
    "    files = glob.glob(path+ '/*')\n",
    "    params = set([s.split(re.findall(num_ptrn,s)[-2])[-1] for s in files])\n",
    "    params = {p for p in params if p != '.txt'}\n",
    "    print(params)\n",
    "    ind_rows = []\n",
    "    global_rows = []\n",
    "    for gt in params:\n",
    "        t1 = time.time()\n",
    "        files = glob.glob(path+ '/*' + gt)\n",
    "        #print(files)\n",
    "        print(gt)\n",
    "        Type = gt[:2]\n",
    "        itr = gt[2]\n",
    "        print(Type,itr)\n",
    "        files.sort(reverse = True,key = lambda x: int(re.findall(num_ptrn,x)[-1]))\n",
    "        # extract tracks from files :\n",
    "        tracks = [np.loadtxt(f) for f in files]\n",
    "        print('unfiltered cells ',len(tracks))\n",
    "        tracks = np.array([t for t in tracks if len(t) == 200])\n",
    "        #tracks2 = [handle_boundaries(tr) for tr in tracks]\n",
    "        vec_tracks = np.array([to_vecs(handle_boundaries(x)) for x in tracks])\n",
    "        return tracks,vec_tracks\n",
    "\n",
    "tracks,vec_tracks = build_csv('/home/lau/Desktop/Thesis Stuff/test_tracks')"
   ]
  },
  {
   "cell_type": "code",
   "execution_count": null,
   "metadata": {},
   "outputs": [],
   "source": [
    "print(tracks.shape,vec_tracks.shape)"
   ]
  },
  {
   "cell_type": "code",
   "execution_count": null,
   "metadata": {},
   "outputs": [],
   "source": [
    "for i,v in enumerate(vec_tracks[:,150]):\n",
    "    if norm(v) > 7:\n",
    "        print(i,norm(v))"
   ]
  },
  {
   "cell_type": "code",
   "execution_count": null,
   "metadata": {},
   "outputs": [],
   "source": [
    "from mpl_toolkits import mplot3d\n",
    "import matplotlib.pyplot as plt\n",
    "def plot_track(cell_track):\n",
    "    x = [c[0] for c in cell_track]\n",
    "    y = [c[1] for c in cell_track]\n",
    "    z = [c[2] for c in cell_track]\n",
    "\n",
    "    #fig = plt.figure()\n",
    "    ax = plt.axes(projection='3d')\n",
    "    ax.plot3D(x,y,z)\n",
    "    ax.scatter3D(x[0],y[0],z[0],label = 'start')\n",
    "    ax.scatter3D(x[-1],y[-1],z[-1],label = 'end')\n",
    "    ax.legend()\n",
    "plot_track(handle_boundaries(tracks[201]))\n",
    "for i,v in enumerate(to_vecs(handle_boundaries(tracks[201]))):\n",
    "    print(i,norm(v),norm(to_vecs(tracks[201])[i]))\n",
    "    print(tracks[201,i],tracks[201,i+1])"
   ]
  },
  {
   "cell_type": "code",
   "execution_count": null,
   "metadata": {},
   "outputs": [],
   "source": [
    "from mpl_toolkits import mplot3d\n",
    "import matplotlib.pyplot as plt\n",
    "def plot_track(cell_track):\n",
    "    x = [c[0] for c in cell_track]\n",
    "    y = [c[1] for c in cell_track]\n",
    "    z = [c[2] for c in cell_track]\n",
    "\n",
    "    #fig = plt.figure()\n",
    "    ax = plt.axes(projection='3d')\n",
    "    ax.plot3D(x,y,z)\n",
    "    ax.scatter3D(x[0],y[0],z[0],label = 'start')\n",
    "    ax.scatter3D(x[-1],y[-1],z[-1],label = 'end')\n",
    "    ax.legend()\n",
    "plot_track(tracks[201])"
   ]
  },
  {
   "cell_type": "code",
   "execution_count": null,
   "metadata": {},
   "outputs": [],
   "source": []
  },
  {
   "cell_type": "code",
   "execution_count": null,
   "metadata": {},
   "outputs": [],
   "source": [
    "# vector field at time 0 : \n",
    "\n",
    "tracks_at_zero = tracks[:,0]\n",
    "vecs_at_zero = vec_tracks[:,0]\n",
    "\n",
    "\n",
    "import plotly.graph_objects as go\n",
    "\n",
    "fig = go.Figure(data=go.Cone(\n",
    "    x=tracks_at_zero[:,0],\n",
    "    y=tracks_at_zero[:,1],\n",
    "    z=tracks_at_zero[:,2],\n",
    "    u=vecs_at_zero[:,0],\n",
    "    v=vecs_at_zero[:,1],\n",
    "    w=vecs_at_zero[:,2],\n",
    "    sizemode=\"absolute\",\n",
    "    sizeref=10,\n",
    "    anchor=\"tip\"))\n",
    "\n",
    "fig.update_layout(\n",
    "      scene=dict(domain_x=[0, 1],\n",
    "                 camera_eye=dict(x=-1.57, y=1.36, z=0.58)))\n",
    "\n",
    "fig.show()"
   ]
  },
  {
   "cell_type": "code",
   "execution_count": null,
   "metadata": {},
   "outputs": [],
   "source": [
    "# animate : \n",
    "\n",
    "fig = go.Figure(\n",
    "    data=[go.Cone(\n",
    "    x=tracks_at_zero[:,0],\n",
    "    y=tracks_at_zero[:,1],\n",
    "    z=tracks_at_zero[:,2],\n",
    "    u=vecs_at_zero[:,0],\n",
    "    v=vecs_at_zero[:,1],\n",
    "    w=vecs_at_zero[:,2],\n",
    "    sizemode=\"absolute\",\n",
    "    sizeref=10,\n",
    "    anchor=\"tip\")],\n",
    "    layout=go.Layout(\n",
    "#         xaxis=dict(range=[0,64], autorange=False),\n",
    "#         yaxis=dict(range=[0,64], autorange=False),\n",
    "#         zaxis=dict(range=[0,64], autorange=False),\n",
    "        title=\"Start Title\",\n",
    "        updatemenus=[dict(\n",
    "            type=\"buttons\",\n",
    "            buttons=[dict(label=\"Play\",\n",
    "                          method=\"animate\",\n",
    "                          args=[None])])]\n",
    "    ),\n",
    "    frames = [go.Frame(data = [go.Cone(\n",
    "    x=tracks[:,t,0],\n",
    "    y=tracks[:,t,1],\n",
    "    z=tracks[:,t,2],\n",
    "    u=vec_tracks[:,t,0],\n",
    "    v=vec_tracks[:,t,1],\n",
    "    w=vec_tracks[:,t,2],\n",
    "    sizemode=\"absolute\",\n",
    "    sizeref=10,\n",
    "    anchor=\"tip\")]) for t in range(198)]# + [layout=go.Layout(title_text=\"End Title\")]\n",
    "#     frames=[go.Frame(data=[go.Scatter(x=[1, 2], y=[1, 2])]),\n",
    "#             go.Frame(data=[go.Scatter(x=[1, 4], y=[1, 4])]),\n",
    "#             go.Frame(data=[go.Scatter(x=[3, 4], y=[3, 4])],\n",
    "#                     ]\n",
    ")\n",
    "\n",
    "fig.show()"
   ]
  },
  {
   "cell_type": "code",
   "execution_count": null,
   "metadata": {},
   "outputs": [],
   "source": []
  }
 ],
 "metadata": {
  "kernelspec": {
   "display_name": "Python 3",
   "language": "python",
   "name": "python3"
  },
  "language_info": {
   "codemirror_mode": {
    "name": "ipython",
    "version": 3
   },
   "file_extension": ".py",
   "mimetype": "text/x-python",
   "name": "python",
   "nbconvert_exporter": "python",
   "pygments_lexer": "ipython3",
   "version": "3.7.6"
  }
 },
 "nbformat": 4,
 "nbformat_minor": 4
}
