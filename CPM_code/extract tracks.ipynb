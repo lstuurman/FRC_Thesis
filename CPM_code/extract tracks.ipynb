{
 "cells": [
  {
   "cell_type": "code",
   "execution_count": null,
   "metadata": {},
   "outputs": [],
   "source": [
    "import pandas as pd\n",
    "import numpy as np\n",
    "import re\n",
    "import glob\n",
    "import seaborn as sns\n",
    "import matplotlib.pyplot as plt\n",
    "from Bresenheim import *\n",
    "import pickle\n",
    "from itertools import product\n",
    "from scipy import ndimage\n",
    "from numpy.linalg import norm\n",
    "sns.set_style('darkgrid')\n",
    "sns.set(font_scale = 1.4)"
   ]
  },
  {
   "cell_type": "code",
   "execution_count": null,
   "metadata": {},
   "outputs": [],
   "source": [
    "# load tracks : \n",
    "files = glob.glob('../data/real_cells/exp*.txt')\n",
    "filename = files[0]\n",
    "df = pd.read_csv(files[0], sep=\"\\t\", names=['cell_id', 'time_id', 'time', 'x', 'y', 'z'])   \n",
    "df['experiment'] = filename[19:28]\n",
    "df['cell_type'] = filename[29:32]\n",
    "df['movie'] = filename[38:39]"
   ]
  },
  {
   "cell_type": "code",
   "execution_count": null,
   "metadata": {},
   "outputs": [],
   "source": []
  },
  {
   "cell_type": "code",
   "execution_count": null,
   "metadata": {},
   "outputs": [],
   "source": [
    "df.head()\n",
    "# df[['x','y','z']]"
   ]
  },
  {
   "cell_type": "code",
   "execution_count": null,
   "metadata": {},
   "outputs": [],
   "source": [
    "df_list = [df[df.cell_id == i] for i in df.cell_id.unique()]"
   ]
  },
  {
   "cell_type": "code",
   "execution_count": null,
   "metadata": {},
   "outputs": [],
   "source": [
    "time_hist = [len(data.time.unique()) for data in df_list]\n",
    "sns.distplot(time_hist)"
   ]
  },
  {
   "cell_type": "code",
   "execution_count": null,
   "metadata": {},
   "outputs": [],
   "source": [
    "len([t for t in time_hist if t > 80])"
   ]
  },
  {
   "cell_type": "code",
   "execution_count": null,
   "metadata": {},
   "outputs": [],
   "source": [
    "### extract tracks from all files\n",
    "counter = 0\n",
    "for f in files:\n",
    "    print(f)\n",
    "    df = pd.read_csv(f, sep=\"\\t\", names=['cell_id', 'time_id', 'time', 'x', 'y', 'z'])   \n",
    "    df['experiment'] = f[19:28]\n",
    "    df['cell_type'] = f[29:32]\n",
    "    df['movie'] = f[38:39]\n",
    "    df = df[df.cell_type == 'cd8']\n",
    "    df_list = [df[df.cell_id == i] for i in df.cell_id.unique()]\n",
    "    for data in df_list:\n",
    "        if len(data.time.unique()) > 80:\n",
    "            track = data[['x','y','z']].to_numpy()\n",
    "            name = '../data/real_cells/Mlab_track' + str(counter) + '.txt'\n",
    "            np.savetxt(name,track)\n",
    "            counter += 1"
   ]
  },
  {
   "cell_type": "code",
   "execution_count": null,
   "metadata": {},
   "outputs": [],
   "source": [
    "def auto_cor(cell_track): \n",
    "    averages = []\n",
    "    for dt in range(0,60):\n",
    "        # angles per dt: \n",
    "        cosines = []\n",
    "        for i in range(len(cell_track) - 2 - dt):\n",
    "            point1 = cell_track[i]\n",
    "            point2 = cell_track[i + 1]\n",
    "            point3 = cell_track[i + dt]\n",
    "            point4 = cell_track[i + dt + 1]\n",
    "            v1 = point2 - point1\n",
    "            v2 = point4 - point3\n",
    "            #cos = np.clip(np.dot(v1,v2)/(norm(v1) * norm(v2)),0,1)\n",
    "            cos = np.dot(v1,v2)/(norm(v1) * norm(v2))\n",
    "            #cos = abs(np.dot(v1,v2)/(norm(v1) * norm(v2)))\n",
    "            cosines.append(cos)\n",
    "        #if len(cosines) > 100: #minimum 100 mcs with actual displacement\n",
    "        averages.append(np.average(cosines))\n",
    "    return averages"
   ]
  },
  {
   "cell_type": "code",
   "execution_count": null,
   "metadata": {},
   "outputs": [],
   "source": [
    "track_files = glob.glob('../data/real_cells/Mlab_track*.txt')\n",
    "autocorrelations = []\n",
    "tracks = []\n",
    "for f in track_files:\n",
    "    track = np.loadtxt(f)\n",
    "    AC = auto_cor(track)\n",
    "    if np.nan not in AC:\n",
    "        tracks.append(track)\n",
    "        autocorrelations.append(AC)"
   ]
  },
  {
   "cell_type": "code",
   "execution_count": null,
   "metadata": {},
   "outputs": [],
   "source": [
    "ac_df = pd.DataFrame(autocorrelations)\n",
    "ac_df = ac_df.dropna()\n",
    "ac_df.head()"
   ]
  },
  {
   "cell_type": "code",
   "execution_count": null,
   "metadata": {},
   "outputs": [],
   "source": [
    "%matplotlib notebook\n",
    "plt.figure(figsize = (10,10))\n",
    "plt.plot(ac_df.T.to_numpy()[1:],alpha = 0.1)\n",
    "plt.plot(np.average(ac_df.T.to_numpy()[1:],axis = 1))\n",
    "plt.ylabel('Autocorrelation')\n",
    "plt.xlabel('delta T')\n",
    "plt.title('average autocorrelation of MotilityLab data')\n",
    "plt.show"
   ]
  },
  {
   "cell_type": "code",
   "execution_count": null,
   "metadata": {},
   "outputs": [],
   "source": [
    "np.average(ac_df.T.to_numpy(),axis = 1)"
   ]
  },
  {
   "cell_type": "code",
   "execution_count": null,
   "metadata": {},
   "outputs": [],
   "source": [
    "%matplotlib notebook\n",
    "plt.imshow(autocorrelations)\n",
    "plt.colorbar()\n",
    "plt.show()"
   ]
  },
  {
   "cell_type": "code",
   "execution_count": null,
   "metadata": {},
   "outputs": [],
   "source": [
    "%matplotlib notebook\n",
    "#autocorrelations = np.array(autocorrelations).T\n",
    "#print(autocorrelations[0,:])\n",
    "##plt.plot(range(len(autocorrelations) - 1),autocorrelations)\n",
    "#plt.plot(autocorrelations[1:],alpha = .2)\n",
    "plt.plot(np.average(autocorrelations[1:]))\n",
    "plt.show()\n",
    "print(np.average(autocorrelations[1:]))\n",
    "#print(len(tracks),len(autocorrelations))"
   ]
  },
  {
   "cell_type": "code",
   "execution_count": null,
   "metadata": {},
   "outputs": [],
   "source": [
    "from CPM_helpers1 import plot_celltrack\n",
    "%matplotlib notebook\n",
    "\n",
    "cell_track = tracks[68]\n",
    "\n",
    "# plot path of center of mass  :\n",
    "x = [c[0] for c in cell_track]\n",
    "y = [c[1] for c in cell_track]\n",
    "z = [c[2] for c in cell_track]\n",
    "\n",
    "#fig = plt.figure()\n",
    "ax = plt.axes(projection='3d')#projection='3d'\n",
    "ax.plot3D(x,y,z)\n",
    "ax.scatter3D(x[0],y[0],z[0],label = 'start')\n",
    "ax.scatter3D(x[-1],y[-1],z[-1],label = 'end')\n",
    "ax.legend()\n",
    "plt.show()"
   ]
  },
  {
   "cell_type": "code",
   "execution_count": null,
   "metadata": {},
   "outputs": [],
   "source": []
  }
 ],
 "metadata": {
  "kernelspec": {
   "display_name": "Python 3",
   "language": "python",
   "name": "python3"
  },
  "language_info": {
   "codemirror_mode": {
    "name": "ipython",
    "version": 3
   },
   "file_extension": ".py",
   "mimetype": "text/x-python",
   "name": "python",
   "nbconvert_exporter": "python",
   "pygments_lexer": "ipython3",
   "version": "3.7.6"
  }
 },
 "nbformat": 4,
 "nbformat_minor": 4
}
