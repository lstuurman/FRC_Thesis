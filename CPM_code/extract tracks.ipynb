{
 "cells": [
  {
   "cell_type": "code",
   "execution_count": 1,
   "metadata": {},
   "outputs": [],
   "source": [
    "import pandas as pd\n",
    "import numpy as np\n",
    "import re\n",
    "import glob\n",
    "import seaborn as sns\n",
    "import matplotlib.pyplot as plt\n",
    "from Bresenheim import *\n",
    "import pickle\n",
    "from itertools import product\n",
    "from scipy import ndimage\n",
    "from numpy.linalg import norm\n",
    "sns.set_style('darkgrid')\n",
    "sns.set(font_scale = 1.4)"
   ]
  },
  {
   "cell_type": "code",
   "execution_count": 2,
   "metadata": {},
   "outputs": [
    {
     "ename": "NameError",
     "evalue": "name 'filename' is not defined",
     "output_type": "error",
     "traceback": [
      "\u001b[0;31m---------------------------------------------------------------------------\u001b[0m",
      "\u001b[0;31mNameError\u001b[0m                                 Traceback (most recent call last)",
      "\u001b[0;32m<ipython-input-2-8a75c0a70b9c>\u001b[0m in \u001b[0;36m<module>\u001b[0;34m\u001b[0m\n\u001b[1;32m      4\u001b[0m \u001b[0;32mfor\u001b[0m \u001b[0mf\u001b[0m \u001b[0;32min\u001b[0m \u001b[0mfiles\u001b[0m\u001b[0;34m:\u001b[0m\u001b[0;34m\u001b[0m\u001b[0;34m\u001b[0m\u001b[0m\n\u001b[1;32m      5\u001b[0m     \u001b[0mdf\u001b[0m \u001b[0;34m=\u001b[0m \u001b[0mpd\u001b[0m\u001b[0;34m.\u001b[0m\u001b[0mread_csv\u001b[0m\u001b[0;34m(\u001b[0m\u001b[0mf\u001b[0m\u001b[0;34m,\u001b[0m \u001b[0msep\u001b[0m\u001b[0;34m=\u001b[0m\u001b[0;34m\"\\t\"\u001b[0m\u001b[0;34m,\u001b[0m \u001b[0mnames\u001b[0m\u001b[0;34m=\u001b[0m\u001b[0;34m[\u001b[0m\u001b[0;34m'cell_id'\u001b[0m\u001b[0;34m,\u001b[0m \u001b[0;34m'time_id'\u001b[0m\u001b[0;34m,\u001b[0m \u001b[0;34m'time'\u001b[0m\u001b[0;34m,\u001b[0m \u001b[0;34m'x'\u001b[0m\u001b[0;34m,\u001b[0m \u001b[0;34m'y'\u001b[0m\u001b[0;34m,\u001b[0m \u001b[0;34m'z'\u001b[0m\u001b[0;34m]\u001b[0m\u001b[0;34m)\u001b[0m\u001b[0;34m\u001b[0m\u001b[0;34m\u001b[0m\u001b[0m\n\u001b[0;32m----> 6\u001b[0;31m     \u001b[0mdf\u001b[0m\u001b[0;34m[\u001b[0m\u001b[0;34m'experiment'\u001b[0m\u001b[0;34m]\u001b[0m \u001b[0;34m=\u001b[0m \u001b[0mfilename\u001b[0m\u001b[0;34m[\u001b[0m\u001b[0;36m19\u001b[0m\u001b[0;34m:\u001b[0m\u001b[0;36m28\u001b[0m\u001b[0;34m]\u001b[0m\u001b[0;34m\u001b[0m\u001b[0;34m\u001b[0m\u001b[0m\n\u001b[0m\u001b[1;32m      7\u001b[0m     \u001b[0mdf\u001b[0m\u001b[0;34m[\u001b[0m\u001b[0;34m'cell_type'\u001b[0m\u001b[0;34m]\u001b[0m \u001b[0;34m=\u001b[0m \u001b[0mfilename\u001b[0m\u001b[0;34m[\u001b[0m\u001b[0;36m29\u001b[0m\u001b[0;34m:\u001b[0m\u001b[0;36m32\u001b[0m\u001b[0;34m]\u001b[0m\u001b[0;34m\u001b[0m\u001b[0;34m\u001b[0m\u001b[0m\n\u001b[1;32m      8\u001b[0m     \u001b[0mdf\u001b[0m\u001b[0;34m[\u001b[0m\u001b[0;34m'movie'\u001b[0m\u001b[0;34m]\u001b[0m \u001b[0;34m=\u001b[0m \u001b[0mfilename\u001b[0m\u001b[0;34m[\u001b[0m\u001b[0;36m38\u001b[0m\u001b[0;34m:\u001b[0m\u001b[0;36m39\u001b[0m\u001b[0;34m]\u001b[0m\u001b[0;34m\u001b[0m\u001b[0;34m\u001b[0m\u001b[0m\n",
      "\u001b[0;31mNameError\u001b[0m: name 'filename' is not defined"
     ]
    }
   ],
   "source": [
    "# load tracks : \n",
    "files = glob.glob('../data/real_cells/exp*.txt')\n",
    "dfs = []\n",
    "for f in files:\n",
    "    df = pd.read_csv(f, sep=\"\\t\", names=['cell_id', 'time_id', 'time', 'x', 'y', 'z'])   \n",
    "    df['experiment'] = filename[19:28]\n",
    "    df['cell_type'] = filename[29:32]\n",
    "    df['movie'] = filename[38:39]\n",
    "    dfs.append(df)\n",
    "    \n",
    "df = pd.concat(dfs)"
   ]
  },
  {
   "cell_type": "code",
   "execution_count": null,
   "metadata": {},
   "outputs": [],
   "source": [
    "print(files)"
   ]
  },
  {
   "cell_type": "code",
   "execution_count": null,
   "metadata": {},
   "outputs": [],
   "source": [
    "df.head()\n",
    "# df[['x','y','z']]"
   ]
  },
  {
   "cell_type": "code",
   "execution_count": null,
   "metadata": {},
   "outputs": [],
   "source": [
    "df_list = [df[df.cell_id == i] for i in df.cell_id.unique()]"
   ]
  },
  {
   "cell_type": "code",
   "execution_count": null,
   "metadata": {},
   "outputs": [],
   "source": [
    "time_hist = [len(data.time.unique()) for data in df_list]\n",
    "sns.distplot(time_hist)\n",
    "plt.show()"
   ]
  },
  {
   "cell_type": "code",
   "execution_count": null,
   "metadata": {},
   "outputs": [],
   "source": [
    "len([t for t in time_hist if t > 80])"
   ]
  },
  {
   "cell_type": "code",
   "execution_count": null,
   "metadata": {},
   "outputs": [],
   "source": [
    "### extract tracks from all files\n",
    "counter = 0\n",
    "for f in files:\n",
    "    print(f)\n",
    "    df = pd.read_csv(f, sep=\"\\t\", names=['cell_id', 'time_id', 'time', 'x', 'y', 'z'])   \n",
    "    df['experiment'] = f[19:28]\n",
    "    df['cell_type'] = f[29:32]\n",
    "    df['movie'] = f[38:39]\n",
    "    #df = df[df.cell_type == 'cd8']\n",
    "    df_list = [df[df.cell_id == i] for i in df.cell_id.unique()]\n",
    "    for data in df_list:\n",
    "        if len(data.time.unique()) > 80:\n",
    "            track = data[['x','y','z']].to_numpy()\n",
    "            name = '../data/real_cells/Mlab_track' + str(counter) + '.txt'\n",
    "            np.savetxt(name,track)\n",
    "            counter += 1"
   ]
  },
  {
   "cell_type": "code",
   "execution_count": null,
   "metadata": {},
   "outputs": [],
   "source": [
    "\n"
   ]
  },
  {
   "cell_type": "code",
   "execution_count": null,
   "metadata": {},
   "outputs": [],
   "source": []
  },
  {
   "cell_type": "code",
   "execution_count": null,
   "metadata": {},
   "outputs": [],
   "source": []
  },
  {
   "cell_type": "code",
   "execution_count": null,
   "metadata": {},
   "outputs": [],
   "source": []
  },
  {
   "cell_type": "code",
   "execution_count": null,
   "metadata": {},
   "outputs": [],
   "source": [
    "def auto_cor(cell_track): \n",
    "    averages = []\n",
    "    for dt in range(0,80):\n",
    "        # angles per dt: \n",
    "        cosines = []\n",
    "        for i in range(len(cell_track) - 1 - dt):\n",
    "            point1 = cell_track[i]\n",
    "            point2 = cell_track[i + 1]\n",
    "            point3 = cell_track[i + dt]\n",
    "            point4 = cell_track[i + dt + 1]\n",
    "            v1 = point2 - point1\n",
    "            v2 = point4 - point3\n",
    "            #cos = np.clip(np.dot(v1,v2)/(norm(v1) * norm(v2)),0,1)\n",
    "            cos = np.dot(v1,v2)/(norm(v1) * norm(v2))\n",
    "            #cos = abs(np.dot(v1,v2)/(norm(v1) * norm(v2)))\n",
    "            cosines.append(cos)\n",
    "\n",
    "        #if len(cosines) > 100: #minimum 100 mcs with actual displacement\n",
    "        averages.append(np.average(cosines))\n",
    "\n",
    "    return averages"
   ]
  },
  {
   "cell_type": "code",
   "execution_count": null,
   "metadata": {},
   "outputs": [],
   "source": [
    "track_files = glob.glob('../data/real_cells/Mlab_track*.txt')\n",
    "autocorrelations = []\n",
    "tracks = []\n",
    "for f in track_files:\n",
    "    print(f)\n",
    "    track = np.loadtxt(f)\n",
    "    AC = auto_cor(track)\n",
    "    if np.nan not in AC:\n",
    "        tracks.append(track)\n",
    "        #print(len(AC))\n",
    "        #flat = [x in sublist in AC for x in sublist]\n",
    "        #flat  = [item for sublist in AC for item in sublist]\n",
    "        #flat = [x for x in sublist for sublist in AC]\n",
    "        autocorrelations.append(AC)\n",
    "\n",
    "\n",
    "#autocorrelations = [item for sublist in autocorrelations for item in sublist]\n",
    "#ac = np.array(autocorrelations)\n",
    "#print(ac.shape)\n",
    "\n",
    "#print(av_ac.shape)"
   ]
  },
  {
   "cell_type": "code",
   "execution_count": null,
   "metadata": {},
   "outputs": [],
   "source": [
    "ac_df = pd.DataFrame(autocorrelations)\n",
    "ac_df = ac_df.dropna()\n",
    "ac_df.head()"
   ]
  },
  {
   "cell_type": "code",
   "execution_count": null,
   "metadata": {
    "scrolled": false
   },
   "outputs": [],
   "source": [
    "%matplotlib notebook\n",
    "plt.figure(figsize = (10,10))\n",
    "plt.plot(ac_df.T.to_numpy(),alpha = 0.1)\n",
    "plt.plot(np.average(ac_df.T.to_numpy(),axis = 1))\n",
    "plt.ylabel('Autocorrelation')\n",
    "plt.xlabel('delta T')\n",
    "plt.title('average autocorrelation of MotilityLab data')\n",
    "plt.show"
   ]
  },
  {
   "cell_type": "code",
   "execution_count": null,
   "metadata": {},
   "outputs": [],
   "source": [
    "plt.scatter(np.average(ac_df.T.to_numpy(),axis = 1),)"
   ]
  },
  {
   "cell_type": "code",
   "execution_count": null,
   "metadata": {},
   "outputs": [],
   "source": [
    "np.average(ac_df.T.to_numpy(),axis = 1)"
   ]
  },
  {
   "cell_type": "code",
   "execution_count": null,
   "metadata": {},
   "outputs": [],
   "source": [
    "%matplotlib notebook\n",
    "plt.imshow(autocorrelations)\n",
    "plt.colorbar()\n",
    "plt.show()"
   ]
  },
  {
   "cell_type": "code",
   "execution_count": null,
   "metadata": {},
   "outputs": [],
   "source": [
    "%matplotlib notebook\n",
    "#autocorrelations = np.array(autocorrelations).T\n",
    "#print(autocorrelations[0,:])\n",
    "##plt.plot(range(len(autocorrelations) - 1),autocorrelations)\n",
    "#plt.plot(autocorrelations[1:],alpha = .2)\n",
    "plt.plot(np.average(autocorrelations[1:]))\n",
    "plt.show()\n",
    "print(np.average(autocorrelations[1:]))\n",
    "#print(len(tracks),len(autocorrelations))"
   ]
  },
  {
   "cell_type": "code",
   "execution_count": null,
   "metadata": {},
   "outputs": [],
   "source": [
    "from CPM_helpers1 import plot_celltrack\n",
    "%matplotlib notebook\n",
    "\n",
    "cell_track = tracks[68]\n",
    "\n",
    "# plot path of center of mass  :\n",
    "x = [c[0] for c in cell_track]\n",
    "y = [c[1] for c in cell_track]\n",
    "z = [c[2] for c in cell_track]\n",
    "\n",
    "#fig = plt.figure()\n",
    "ax = plt.axes(projection='3d')#projection='3d'\n",
    "ax.plot3D(x,y,z)\n",
    "ax.scatter3D(x[0],y[0],z[0],label = 'start')\n",
    "ax.scatter3D(x[-1],y[-1],z[-1],label = 'end')\n",
    "ax.legend()\n",
    "plt.show()"
   ]
  },
  {
   "cell_type": "code",
   "execution_count": null,
   "metadata": {},
   "outputs": [],
   "source": [
    "import networkx as nx \n",
    "\n"
   ]
  },
  {
   "cell_type": "code",
   "execution_count": null,
   "metadata": {},
   "outputs": [],
   "source": [
    "%matplotlib notebook\n",
    "# load tracks : \n",
    "filename = \"./exp090814_cd4_movie1.txt\"\n",
    "df = pd.read_csv(files[0], sep=\"\\t\", names=['cell_id', 'time_id', 'time', 'x', 'y', 'z'])   \n",
    "df['experiment'] = filename[2:11] \n",
    "df['cell_type'] = filename[12:15]\n",
    "df['movie'] = filename[21:22]\n",
    "\n",
    "def auto_cor(cell_track, dots_for_dts, dts): \n",
    "    for dt in range(0,dts):\n",
    "        dots = []\n",
    "        for i in range(len(cell_track) - 1 - dt):\n",
    "            point1 = cell_track[i]\n",
    "            point2 = cell_track[i + 1]\n",
    "            point3 = cell_track[i + dt]\n",
    "            point4 = cell_track[i + dt + 1]\n",
    "            v1 = point2 - point1\n",
    "            v2 = point4 - point3\n",
    "            dot = np.dot(v1,v2)/(norm(v1) * norm(v2))\n",
    "            dots.append(dot)\n",
    "        dots_for_dts[dt].extend(dots)\n",
    "\n",
    "dts = 80\n",
    "dots_for_dts = [[] for i in range(dts)]\n",
    "\n",
    "for cell_id in df.cell_id.unique():\n",
    "    celldf = df[df.cell_id == cell_id]\n",
    "    track = celldf[['x','y','z']].to_numpy()\n",
    "    auto_cor(track, dots_for_dts, dts)\n",
    "    \n",
    "averages = [np.mean(i) for i in dots_for_dts]\n",
    "\n",
    "plt.scatter(range(dts), averages)\n",
    "plt.show()"
   ]
  },
  {
   "cell_type": "code",
   "execution_count": null,
   "metadata": {},
   "outputs": [],
   "source": [
    "def auto_cor_pooled(cell_track, dots_for_dts, dts): \n",
    "    for dt in range(0,dts):\n",
    "        dots = []\n",
    "        for i in range(len(cell_track) - 1 - dt):\n",
    "            point1 = cell_track[i]\n",
    "            point2 = cell_track[i + 1]\n",
    "            point3 = cell_track[i + dt]\n",
    "            point4 = cell_track[i + dt + 1]\n",
    "            v1 = point2 - point1\n",
    "            v2 = point4 - point3\n",
    "            dot = np.dot(v1,v2)/(norm(v1) * norm(v2))\n",
    "            dots.append(dot)\n",
    "        dots_for_dts[dt].extend(dots)\n",
    "\n",
    "dts = 80\n",
    "dots_for_dts = [[] for i in range(dts)]\n",
    "\n",
    "\n",
    "for f in track_files:\n",
    "    track = np.loadtxt(f)\n",
    "    auto_cor(track,dots_for_dts,dts)\n",
    "    \n",
    "# for cell_id in df.cell_id.unique():\n",
    "#     celldf = df[df.cell_id == cell_id]\n",
    "#     track = celldf[['x','y','z']].to_numpy()\n",
    "#     auto_cor(track, dots_for_dts, dts)\n",
    "    \n",
    "\n",
    "    \n",
    "averages = [np.mean(i) for i in dots_for_dts]"
   ]
  }
 ],
 "metadata": {
  "kernelspec": {
   "display_name": "Python 3",
   "language": "python",
   "name": "python3"
  },
  "language_info": {
   "codemirror_mode": {
    "name": "ipython",
    "version": 3
   },
   "file_extension": ".py",
   "mimetype": "text/x-python",
   "name": "python",
   "nbconvert_exporter": "python",
   "pygments_lexer": "ipython3",
   "version": "3.7.6"
  }
 },
 "nbformat": 4,
 "nbformat_minor": 4
}
