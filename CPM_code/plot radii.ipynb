{
 "cells": [
  {
   "cell_type": "code",
   "execution_count": 2,
   "metadata": {},
   "outputs": [],
   "source": [
    "import glob\n",
    "import pandas as pd\n",
    "import seaborn as sns\n",
    "import matplotlib.pyplot as plt\n",
    "import numpy as np\n",
    "import itertools"
   ]
  },
  {
   "cell_type": "code",
   "execution_count": 6,
   "metadata": {},
   "outputs": [],
   "source": [
    "files = glob.glob('../results/gapanalysis/*.txt')"
   ]
  },
  {
   "cell_type": "code",
   "execution_count": 13,
   "metadata": {
    "scrolled": true
   },
   "outputs": [
    {
     "name": "stdout",
     "output_type": "stream",
     "text": [
      "PW [194. 192. 178. 140. 132. 121.  98.  78.  72.  68.  58.  57.  55.  54.\n",
      "  54.  54.  54.  53.  51.  50.  49.  45.  44.  43.  43.  42.  41.  41.\n",
      "  40.  39.  37.  37.  36.  36.  36.  36.  35.  34.  33.  33.  31.  29.\n",
      "  29.  28.  28.  28.  27.  27.  27.  27.  26.  26.  26.  25.  25.  24.\n",
      "  24.  24.  24.  23.  23.  23.  22.  22.  22.  22.  22.  21.  21.  21.\n",
      "  21.  21.  20.  19.  19.  19.  19.  19.  18.  18.  18.  18.  18.  17.\n",
      "  17.  17.  17.  17.  16.  16.  16.  16.  16.  16.  16.  16.  15.  15.\n",
      "  15.  15.  15.  14.  14.  14.  14.  14.  14.  14.  14.  14.  13.  13.\n",
      "  13.  13.  13.  13.  13.  13.  13.  13.  13.  13.  13.  12.  12.  12.\n",
      "  12.  12.  12.  12.  12.  12.  12.  12.  12.  12.  12.  11.  11.  11.\n",
      "  11.  11.  11.  11.  11.  11.  11.  11.  11.  11.  11.  10.  10.  10.\n",
      "  10.  10.  10.  10.  10.  10.  10.  10.  10.  10.  10.  10.  10.  10.\n",
      "  10.  10.  10.   9.   9.   9.   9.   9.   9.   9.   9.   9.   9.   9.\n",
      "   9.   9.   9.   9.   9.   9.   9.   9.   9.   9.   9.   9.   9.   9.\n",
      "   8.   8.   8.   8.   8.   8.   8.   8.   8.   8.   8.   8.   8.   8.\n",
      "   8.   8.   8.   8.   8.   8.   8.   8.   8.   8.   8.   8.   8.   8.\n",
      "   8.   8.   8.   8.   8.   8.   8.   8.   8.   8.]\n",
      "GM [512.  88.  88.  88.  87.  44.  44.  44.  44.  44.  44.  44.  44.  26.\n",
      "  26.  26.  26.  26.  26.  26.  25.  18.  17.  17.  17.  17.  17.  17.\n",
      "  17.  15.  15.  15.  15.  15.  15.  15.  15.  15.  15.  15.  15.  14.\n",
      "  14.  14.  14.  14.  14.  14.  14.  13.  13.  13.  12.  12.  12.  12.\n",
      "  12.  10.   9.   9.   9.   9.   9.   9.   9.   9.   9.   8.   8.   8.\n",
      "   8.   8.   8.   8.   8.   8.   8.   8.]\n",
      "ER [441. 125. 121. 121. 103.  79.  79.  78.  75.  74.  68.  52.  52.  51.\n",
      "  49.  37.  37.  34.  31.  29.  29.  25.  25.  24.  24.  24.  24.  22.\n",
      "  22.  22.  21.  21.  21.  21.  21.  21.  20.  20.  19.  19.  19.  18.\n",
      "  18.  17.  17.  17.  16.  16.  15.  15.  14.  14.  13.  13.  13.  12.\n",
      "  12.  12.  12.  12.  12.  12.  11.  11.  11.  11.  11.  11.  11.  11.\n",
      "  10.  10.  10.  10.  10.  10.  10.  10.  10.  10.  10.  10.   9.   9.\n",
      "   9.   9.   9.   9.   9.   9.   9.   9.   9.   9.   9.   9.   9.   9.\n",
      "   9.   9.   9.   9.   8.   8.   8.   8.   8.   8.   8.   8.   8.   8.\n",
      "   8.   8.   8.]\n",
      "BA [211. 183. 156. 140. 127. 111. 102.  98.  82.  78.  77.  70.  64.  63.\n",
      "  57.  51.  51.  48.  46.  45.  45.  43.  43.  42.  40.  39.  39.  38.\n",
      "  36.  36.  31.  30.  30.  30.  29.  29.  29.  29.  28.  28.  27.  27.\n",
      "  26.  25.  25.  25.  24.  24.  24.  23.  23.  22.  21.  21.  21.  21.\n",
      "  20.  20.  20.  19.  19.  19.  18.  18.  18.  18.  18.  18.  18.  18.\n",
      "  18.  17.  17.  17.  17.  17.  17.  17.  16.  16.  16.  16.  16.  16.\n",
      "  15.  15.  15.  15.  15.  14.  14.  14.  14.  14.  14.  14.  14.  14.\n",
      "  14.  14.  14.  14.  14.  14.  13.  13.  13.  13.  13.  13.  13.  13.\n",
      "  13.  13.  13.  13.  12.  12.  12.  12.  12.  12.  12.  12.  12.  12.\n",
      "  12.  11.  11.  11.  11.  11.  11.  11.  11.  11.  11.  11.  11.  11.\n",
      "  11.  11.  10.  10.  10.  10.  10.  10.  10.  10.  10.  10.  10.  10.\n",
      "  10.  10.  10.  10.  10.  10.  10.   9.   9.   9.   9.   9.   9.   9.\n",
      "   9.   9.   9.   9.   9.   9.   9.   9.   9.   9.   9.   9.   9.   9.\n",
      "   9.   9.   8.   8.   8.   8.   8.   8.   8.   8.   8.   8.   8.   8.\n",
      "   8.   8.   8.   8.   8.   8.   8.   8.   8.   8.   8.   8.   8.   8.\n",
      "   8.   8.   8.   8.   8.   8.   8.   8.   8.   8.   8.   8.]\n",
      "WS [385. 153. 151. 133. 130. 120.  73.  66.  66.  58.  57.  52.  51.  49.\n",
      "  42.  40.  39.  36.  34.  33.  33.  33.  33.  31.  30.  28.  28.  26.\n",
      "  26.  26.  26.  24.  24.  24.  23.  23.  23.  22.  22.  21.  21.  20.\n",
      "  20.  20.  20.  20.  19.  19.  19.  19.  19.  18.  18.  18.  18.  17.\n",
      "  17.  17.  17.  16.  15.  15.  14.  14.  14.  14.  14.  13.  13.  13.\n",
      "  13.  13.  13.  13.  13.  13.  13.  13.  13.  13.  12.  12.  12.  12.\n",
      "  12.  12.  12.  12.  11.  11.  11.  11.  11.  11.  11.  10.  10.  10.\n",
      "  10.  10.  10.  10.  10.  10.  10.  10.  10.  10.  10.   9.   9.   9.\n",
      "   9.   9.   9.   9.   9.   9.   9.   9.   9.   9.   9.   9.   9.   9.\n",
      "   9.   9.   8.   8.   8.   8.   8.   8.   8.   8.   8.   8.   8.   8.\n",
      "   8.   8.   8.   8.   8.   8.]\n"
     ]
    }
   ],
   "source": [
    "data = {}\n",
    "for f in files:\n",
    "    r = np.loadtxt(f)\n",
    "    name = f[-6:-4]\n",
    "    data[name] = r\n",
    "    print(name,r)"
   ]
  },
  {
   "cell_type": "code",
   "execution_count": 32,
   "metadata": {},
   "outputs": [],
   "source": [
    "#df = pd.DataFrame([_ for _ in itertools.zip_longest(*data)], columns=data.values())\n",
    "x = list(itertools.zip_longest(*data.values()))\n",
    "df = pd.DataFrame(x)\n",
    "df.columns = list(data.keys())"
   ]
  },
  {
   "cell_type": "code",
   "execution_count": 33,
   "metadata": {},
   "outputs": [
    {
     "data": {
      "text/html": [
       "<div>\n",
       "<style scoped>\n",
       "    .dataframe tbody tr th:only-of-type {\n",
       "        vertical-align: middle;\n",
       "    }\n",
       "\n",
       "    .dataframe tbody tr th {\n",
       "        vertical-align: top;\n",
       "    }\n",
       "\n",
       "    .dataframe thead th {\n",
       "        text-align: right;\n",
       "    }\n",
       "</style>\n",
       "<table border=\"1\" class=\"dataframe\">\n",
       "  <thead>\n",
       "    <tr style=\"text-align: right;\">\n",
       "      <th></th>\n",
       "      <th>PW</th>\n",
       "      <th>GM</th>\n",
       "      <th>ER</th>\n",
       "      <th>BA</th>\n",
       "      <th>WS</th>\n",
       "    </tr>\n",
       "  </thead>\n",
       "  <tbody>\n",
       "    <tr>\n",
       "      <th>0</th>\n",
       "      <td>194.0</td>\n",
       "      <td>512.0</td>\n",
       "      <td>441.0</td>\n",
       "      <td>211.0</td>\n",
       "      <td>385.0</td>\n",
       "    </tr>\n",
       "    <tr>\n",
       "      <th>1</th>\n",
       "      <td>192.0</td>\n",
       "      <td>88.0</td>\n",
       "      <td>125.0</td>\n",
       "      <td>183.0</td>\n",
       "      <td>153.0</td>\n",
       "    </tr>\n",
       "    <tr>\n",
       "      <th>2</th>\n",
       "      <td>178.0</td>\n",
       "      <td>88.0</td>\n",
       "      <td>121.0</td>\n",
       "      <td>156.0</td>\n",
       "      <td>151.0</td>\n",
       "    </tr>\n",
       "    <tr>\n",
       "      <th>3</th>\n",
       "      <td>140.0</td>\n",
       "      <td>88.0</td>\n",
       "      <td>121.0</td>\n",
       "      <td>140.0</td>\n",
       "      <td>133.0</td>\n",
       "    </tr>\n",
       "    <tr>\n",
       "      <th>4</th>\n",
       "      <td>132.0</td>\n",
       "      <td>87.0</td>\n",
       "      <td>103.0</td>\n",
       "      <td>127.0</td>\n",
       "      <td>130.0</td>\n",
       "    </tr>\n",
       "  </tbody>\n",
       "</table>\n",
       "</div>"
      ],
      "text/plain": [
       "      PW     GM     ER     BA     WS\n",
       "0  194.0  512.0  441.0  211.0  385.0\n",
       "1  192.0   88.0  125.0  183.0  153.0\n",
       "2  178.0   88.0  121.0  156.0  151.0\n",
       "3  140.0   88.0  121.0  140.0  133.0\n",
       "4  132.0   87.0  103.0  127.0  130.0"
      ]
     },
     "execution_count": 33,
     "metadata": {},
     "output_type": "execute_result"
    }
   ],
   "source": [
    "df.head()"
   ]
  },
  {
   "cell_type": "code",
   "execution_count": 39,
   "metadata": {},
   "outputs": [
    {
     "data": {
      "image/png": "[encoded data removed]",
      "text/plain": [
       "<Figure size 432x288 with 1 Axes>"
      ]
     },
     "metadata": {
      "needs_background": "light"
     },
     "output_type": "display_data"
    }
   ],
   "source": [
    "for c in df.columns:\n",
    "    sns.distplot(df[c].dropna())"
   ]
  },
  {
   "cell_type": "code",
   "execution_count": 17,
   "metadata": {},
   "outputs": [],
   "source": [
    "data = pd.read_csv('/home/lau/Desktop/Thesis Stuff/gap_data5/adjusted.csv',index_col = 0)"
   ]
  },
  {
   "cell_type": "code",
   "execution_count": 18,
   "metadata": {},
   "outputs": [
    {
     "name": "stdout",
     "output_type": "stream",
     "text": [
      "   Radius  iter type\n",
      "0      97     0   WS\n",
      "1      70     0   WS\n",
      "2      62     0   WS\n",
      "3      61     0   WS\n",
      "4      61     0   WS\n"
     ]
    }
   ],
   "source": [
    "print(data.head())\n",
    "# convert to microns\n",
    "data.Radius = data.Radius/4."
   ]
  },
  {
   "cell_type": "code",
   "execution_count": 20,
   "metadata": {},
   "outputs": [
    {
     "data": {
      "image/png": "[encoded data removed]",
      "text/plain": [
       "<Figure size 432x288 with 1 Axes>"
      ]
     },
     "metadata": {
      "needs_background": "light"
     },
     "output_type": "display_data"
    },
    {
     "data": {
      "image/png": "[encoded data removed]",
      "text/plain": [
       "<Figure size 432x288 with 1 Axes>"
      ]
     },
     "metadata": {
      "needs_background": "light"
     },
     "output_type": "display_data"
    },
    {
     "data": {
      "image/png": "[encoded data removed]",
      "text/plain": [
       "<Figure size 432x288 with 1 Axes>"
      ]
     },
     "metadata": {
      "needs_background": "light"
     },
     "output_type": "display_data"
    },
    {
     "data": {
      "image/png": "[encoded data removed]",
      "text/plain": [
       "<Figure size 432x288 with 1 Axes>"
      ]
     },
     "metadata": {
      "needs_background": "light"
     },
     "output_type": "display_data"
    },
    {
     "data": {
      "image/png": "[encoded data removed]",
      "text/plain": [
       "<Figure size 432x288 with 1 Axes>"
      ]
     },
     "metadata": {
      "needs_background": "light"
     },
     "output_type": "display_data"
    }
   ],
   "source": [
    "for gtype in data.type.unique():\n",
    "    sns.distplot(data[data.type == gtype].Radius,norm_hist = True)\n",
    "    plt.show()"
   ]
  },
  {
   "cell_type": "code",
   "execution_count": null,
   "metadata": {},
   "outputs": [],
   "source": []
  }
 ],
 "metadata": {
  "kernelspec": {
   "display_name": "Python 3",
   "language": "python",
   "name": "python3"
  },
  "language_info": {
   "codemirror_mode": {
    "name": "ipython",
    "version": 3
   },
   "file_extension": ".py",
   "mimetype": "text/x-python",
   "name": "python",
   "nbconvert_exporter": "python",
   "pygments_lexer": "ipython3",
   "version": "3.7.6"
  }
 },
 "nbformat": 4,
 "nbformat_minor": 4
}
