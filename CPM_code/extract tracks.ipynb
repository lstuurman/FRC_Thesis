{
 "cells": [
  {
   "cell_type": "code",
   "execution_count": 1,
   "metadata": {},
   "outputs": [],
   "source": [
    "import pandas as pd\n",
    "import numpy as np\n",
    "import re\n",
    "import glob\n",
    "import seaborn as sns\n",
    "import matplotlib.pyplot as plt\n",
    "from Bresenheim import *\n",
    "import pickle\n",
    "from itertools import product\n",
    "from scipy import ndimage\n",
    "from numpy.linalg import norm\n",
    "sns.set_style('darkgrid')\n",
    "sns.set(font_scale = 1.4)"
   ]
  },
  {
   "cell_type": "code",
   "execution_count": 13,
   "metadata": {},
   "outputs": [],
   "source": [
    "# load tracks : \n",
    "files = glob.glob('../data/real_cells/exp*.txt')\n",
    "dfs = []\n",
    "for f in files:\n",
    "    df = pd.read_csv(f, sep=\"\\t\", names=['cell_id', 'time_id', 'time', 'x', 'y', 'z'])   \n",
    "    df['experiment'] = filename[19:28]\n",
    "    df['cell_type'] = filename[29:32]\n",
    "    df['movie'] = filename[38:39]\n",
    "    dfs.append(df)\n",
    "    \n",
    "df = pd.concat(dfs)"
   ]
  },
  {
   "cell_type": "code",
   "execution_count": 14,
   "metadata": {},
   "outputs": [
    {
     "name": "stdout",
     "output_type": "stream",
     "text": [
      "['../data/real_cells/exp090814_cd4_movie2.txt', '../data/real_cells/exp090814_cd4_movie3.txt', '../data/real_cells/exp090814_cd8_movie1.txt', '../data/real_cells/exp090929_cd8_movie3.txt', '../data/real_cells/exp090814_cd8_movie4.txt', '../data/real_cells/exp090929_cd8_movie2.txt', '../data/real_cells/exp101210_cd4_movie1.txt', '../data/real_cells/exp101210_cd8_movie1.txt', '../data/real_cells/exp101208_cd8_movie5.txt', '../data/real_cells/exp101208_cd4_movie5.txt', '../data/real_cells/exp090929_cd4_movie2.txt', '../data/real_cells/exp090929_cd4_movie3.txt', '../data/real_cells/exp101210_cd8_movie7.txt', '../data/real_cells/exp090814_cd8_movie3.txt', '../data/real_cells/exp101210_cd4_movie7.txt', '../data/real_cells/exp090814_cd4_movie4.txt', '../data/real_cells/exp090814_cd4_movie1.txt', '../data/real_cells/exp090814_cd8_movie2.txt']\n"
     ]
    }
   ],
   "source": [
    "print(files)"
   ]
  },
  {
   "cell_type": "code",
   "execution_count": 15,
   "metadata": {},
   "outputs": [
    {
     "data": {
      "text/html": [
       "<div>\n",
       "<style scoped>\n",
       "    .dataframe tbody tr th:only-of-type {\n",
       "        vertical-align: middle;\n",
       "    }\n",
       "\n",
       "    .dataframe tbody tr th {\n",
       "        vertical-align: top;\n",
       "    }\n",
       "\n",
       "    .dataframe thead th {\n",
       "        text-align: right;\n",
       "    }\n",
       "</style>\n",
       "<table border=\"1\" class=\"dataframe\">\n",
       "  <thead>\n",
       "    <tr style=\"text-align: right;\">\n",
       "      <th></th>\n",
       "      <th>cell_id</th>\n",
       "      <th>time_id</th>\n",
       "      <th>time</th>\n",
       "      <th>x</th>\n",
       "      <th>y</th>\n",
       "      <th>z</th>\n",
       "      <th>experiment</th>\n",
       "      <th>cell_type</th>\n",
       "      <th>movie</th>\n",
       "    </tr>\n",
       "  </thead>\n",
       "  <tbody>\n",
       "    <tr>\n",
       "      <th>0</th>\n",
       "      <td>1000000000</td>\n",
       "      <td>1</td>\n",
       "      <td>30</td>\n",
       "      <td>0.304</td>\n",
       "      <td>189.208</td>\n",
       "      <td>20.45100</td>\n",
       "      <td>exp090814</td>\n",
       "      <td>cd4</td>\n",
       "      <td>2</td>\n",
       "    </tr>\n",
       "    <tr>\n",
       "      <th>1</th>\n",
       "      <td>1000000000</td>\n",
       "      <td>2</td>\n",
       "      <td>60</td>\n",
       "      <td>4.657</td>\n",
       "      <td>192.111</td>\n",
       "      <td>16.00501</td>\n",
       "      <td>exp090814</td>\n",
       "      <td>cd4</td>\n",
       "      <td>2</td>\n",
       "    </tr>\n",
       "    <tr>\n",
       "      <th>2</th>\n",
       "      <td>1000000000</td>\n",
       "      <td>3</td>\n",
       "      <td>90</td>\n",
       "      <td>8.031</td>\n",
       "      <td>191.433</td>\n",
       "      <td>13.40800</td>\n",
       "      <td>exp090814</td>\n",
       "      <td>cd4</td>\n",
       "      <td>2</td>\n",
       "    </tr>\n",
       "    <tr>\n",
       "      <th>3</th>\n",
       "      <td>1000000000</td>\n",
       "      <td>4</td>\n",
       "      <td>120</td>\n",
       "      <td>16.071</td>\n",
       "      <td>191.137</td>\n",
       "      <td>13.30001</td>\n",
       "      <td>exp090814</td>\n",
       "      <td>cd4</td>\n",
       "      <td>2</td>\n",
       "    </tr>\n",
       "    <tr>\n",
       "      <th>4</th>\n",
       "      <td>1000000000</td>\n",
       "      <td>5</td>\n",
       "      <td>150</td>\n",
       "      <td>18.397</td>\n",
       "      <td>191.814</td>\n",
       "      <td>10.42001</td>\n",
       "      <td>exp090814</td>\n",
       "      <td>cd4</td>\n",
       "      <td>2</td>\n",
       "    </tr>\n",
       "  </tbody>\n",
       "</table>\n",
       "</div>"
      ],
      "text/plain": [
       "      cell_id  time_id  time       x        y         z experiment cell_type  \\\n",
       "0  1000000000        1    30   0.304  189.208  20.45100  exp090814       cd4   \n",
       "1  1000000000        2    60   4.657  192.111  16.00501  exp090814       cd4   \n",
       "2  1000000000        3    90   8.031  191.433  13.40800  exp090814       cd4   \n",
       "3  1000000000        4   120  16.071  191.137  13.30001  exp090814       cd4   \n",
       "4  1000000000        5   150  18.397  191.814  10.42001  exp090814       cd4   \n",
       "\n",
       "  movie  \n",
       "0     2  \n",
       "1     2  \n",
       "2     2  \n",
       "3     2  \n",
       "4     2  "
      ]
     },
     "execution_count": 15,
     "metadata": {},
     "output_type": "execute_result"
    }
   ],
   "source": [
    "df.head()\n",
    "# df[['x','y','z']]"
   ]
  },
  {
   "cell_type": "code",
   "execution_count": 16,
   "metadata": {},
   "outputs": [],
   "source": [
    "df_list = [df[df.cell_id == i] for i in df.cell_id.unique()]"
   ]
  },
  {
   "cell_type": "code",
   "execution_count": 17,
   "metadata": {},
   "outputs": [
    {
     "data": {
      "image/png": "[encoded data removed]",
      "text/plain": [
       "<Figure size 432x288 with 1 Axes>"
      ]
     },
     "metadata": {},
     "output_type": "display_data"
    }
   ],
   "source": [
    "time_hist = [len(data.time.unique()) for data in df_list]\n",
    "sns.distplot(time_hist)\n",
    "plt.show()"
   ]
  },
  {
   "cell_type": "code",
   "execution_count": 18,
   "metadata": {},
   "outputs": [
    {
     "data": {
      "text/plain": [
       "166"
      ]
     },
     "execution_count": 18,
     "metadata": {},
     "output_type": "execute_result"
    }
   ],
   "source": [
    "len([t for t in time_hist if t > 80])"
   ]
  },
  {
   "cell_type": "code",
   "execution_count": 19,
   "metadata": {},
   "outputs": [
    {
     "name": "stdout",
     "output_type": "stream",
     "text": [
      "../data/real_cells/exp090814_cd4_movie2.txt\n",
      "../data/real_cells/exp090814_cd4_movie3.txt\n",
      "../data/real_cells/exp090814_cd8_movie1.txt\n",
      "../data/real_cells/exp090929_cd8_movie3.txt\n",
      "../data/real_cells/exp090814_cd8_movie4.txt\n",
      "../data/real_cells/exp090929_cd8_movie2.txt\n",
      "../data/real_cells/exp101210_cd4_movie1.txt\n",
      "../data/real_cells/exp101210_cd8_movie1.txt\n",
      "../data/real_cells/exp101208_cd8_movie5.txt\n",
      "../data/real_cells/exp101208_cd4_movie5.txt\n",
      "../data/real_cells/exp090929_cd4_movie2.txt\n",
      "../data/real_cells/exp090929_cd4_movie3.txt\n",
      "../data/real_cells/exp101210_cd8_movie7.txt\n",
      "../data/real_cells/exp090814_cd8_movie3.txt\n",
      "../data/real_cells/exp101210_cd4_movie7.txt\n",
      "../data/real_cells/exp090814_cd4_movie4.txt\n",
      "../data/real_cells/exp090814_cd4_movie1.txt\n",
      "../data/real_cells/exp090814_cd8_movie2.txt\n"
     ]
    }
   ],
   "source": [
    "### extract tracks from all files\n",
    "counter = 0\n",
    "for f in files:\n",
    "    print(f)\n",
    "    df = pd.read_csv(f, sep=\"\\t\", names=['cell_id', 'time_id', 'time', 'x', 'y', 'z'])   \n",
    "    df['experiment'] = f[19:28]\n",
    "    df['cell_type'] = f[29:32]\n",
    "    df['movie'] = f[38:39]\n",
    "    #df = df[df.cell_type == 'cd8']\n",
    "    df_list = [df[df.cell_id == i] for i in df.cell_id.unique()]\n",
    "    for data in df_list:\n",
    "        if len(data.time.unique()) > 80:\n",
    "            track = data[['x','y','z']].to_numpy()\n",
    "            name = '../data/real_cells/Mlab_track' + str(counter) + '.txt'\n",
    "            np.savetxt(name,track)\n",
    "            counter += 1"
   ]
  },
  {
   "cell_type": "code",
   "execution_count": null,
   "metadata": {},
   "outputs": [],
   "source": [
    "\n"
   ]
  },
  {
   "cell_type": "code",
   "execution_count": null,
   "metadata": {},
   "outputs": [],
   "source": []
  },
  {
   "cell_type": "code",
   "execution_count": null,
   "metadata": {},
   "outputs": [],
   "source": []
  },
  {
   "cell_type": "code",
   "execution_count": null,
   "metadata": {},
   "outputs": [],
   "source": []
  },
  {
   "cell_type": "code",
   "execution_count": null,
   "metadata": {},
   "outputs": [],
   "source": [
    "def auto_cor(cell_track): \n",
    "    averages = []\n",
    "    for dt in range(0,80):\n",
    "        # angles per dt: \n",
    "        cosines = []\n",
    "        for i in range(len(cell_track) - 1 - dt):\n",
    "            point1 = cell_track[i]\n",
    "            point2 = cell_track[i + 1]\n",
    "            point3 = cell_track[i + dt]\n",
    "            point4 = cell_track[i + dt + 1]\n",
    "            v1 = point2 - point1\n",
    "            v2 = point4 - point3\n",
    "            #cos = np.clip(np.dot(v1,v2)/(norm(v1) * norm(v2)),0,1)\n",
    "            cos = np.dot(v1,v2)/(norm(v1) * norm(v2))\n",
    "            #cos = abs(np.dot(v1,v2)/(norm(v1) * norm(v2)))\n",
    "            cosines.append(cos)\n",
    "\n",
    "        #if len(cosines) > 100: #minimum 100 mcs with actual displacement\n",
    "        averages.append(np.average(cosines))\n",
    "\n",
    "    return averages"
   ]
  },
  {
   "cell_type": "code",
   "execution_count": null,
   "metadata": {},
   "outputs": [],
   "source": [
    "track_files = glob.glob('../data/real_cells/Mlab_track*.txt')\n",
    "autocorrelations = []\n",
    "tracks = []\n",
    "for f in track_files:\n",
    "    print(f)\n",
    "    track = np.loadtxt(f)\n",
    "    AC = auto_cor(track)\n",
    "    if np.nan not in AC:\n",
    "        tracks.append(track)\n",
    "        #print(len(AC))\n",
    "        #flat = [x in sublist in AC for x in sublist]\n",
    "        #flat  = [item for sublist in AC for item in sublist]\n",
    "        #flat = [x for x in sublist for sublist in AC]\n",
    "        autocorrelations.append(AC)\n",
    "\n",
    "\n",
    "#autocorrelations = [item for sublist in autocorrelations for item in sublist]\n",
    "#ac = np.array(autocorrelations)\n",
    "#print(ac.shape)\n",
    "\n",
    "#print(av_ac.shape)"
   ]
  },
  {
   "cell_type": "code",
   "execution_count": null,
   "metadata": {},
   "outputs": [],
   "source": [
    "ac_df = pd.DataFrame(autocorrelations)\n",
    "ac_df = ac_df.dropna()\n",
    "ac_df.head()"
   ]
  },
  {
   "cell_type": "code",
   "execution_count": null,
   "metadata": {
    "scrolled": false
   },
   "outputs": [],
   "source": [
    "%matplotlib notebook\n",
    "plt.figure(figsize = (10,10))\n",
    "plt.plot(ac_df.T.to_numpy(),alpha = 0.1)\n",
    "plt.plot(np.average(ac_df.T.to_numpy(),axis = 1))\n",
    "plt.ylabel('Autocorrelation')\n",
    "plt.xlabel('delta T')\n",
    "plt.title('average autocorrelation of MotilityLab data')\n",
    "plt.show"
   ]
  },
  {
   "cell_type": "code",
   "execution_count": null,
   "metadata": {},
   "outputs": [],
   "source": [
    "plt.scatter(np.average(ac_df.T.to_numpy(),axis = 1),)"
   ]
  },
  {
   "cell_type": "code",
   "execution_count": null,
   "metadata": {},
   "outputs": [],
   "source": [
    "np.average(ac_df.T.to_numpy(),axis = 1)"
   ]
  },
  {
   "cell_type": "code",
   "execution_count": null,
   "metadata": {},
   "outputs": [],
   "source": [
    "%matplotlib notebook\n",
    "plt.imshow(autocorrelations)\n",
    "plt.colorbar()\n",
    "plt.show()"
   ]
  },
  {
   "cell_type": "code",
   "execution_count": null,
   "metadata": {},
   "outputs": [],
   "source": [
    "%matplotlib notebook\n",
    "#autocorrelations = np.array(autocorrelations).T\n",
    "#print(autocorrelations[0,:])\n",
    "##plt.plot(range(len(autocorrelations) - 1),autocorrelations)\n",
    "#plt.plot(autocorrelations[1:],alpha = .2)\n",
    "plt.plot(np.average(autocorrelations[1:]))\n",
    "plt.show()\n",
    "print(np.average(autocorrelations[1:]))\n",
    "#print(len(tracks),len(autocorrelations))"
   ]
  },
  {
   "cell_type": "code",
   "execution_count": null,
   "metadata": {},
   "outputs": [],
   "source": [
    "from CPM_helpers1 import plot_celltrack\n",
    "%matplotlib notebook\n",
    "\n",
    "cell_track = tracks[68]\n",
    "\n",
    "# plot path of center of mass  :\n",
    "x = [c[0] for c in cell_track]\n",
    "y = [c[1] for c in cell_track]\n",
    "z = [c[2] for c in cell_track]\n",
    "\n",
    "#fig = plt.figure()\n",
    "ax = plt.axes(projection='3d')#projection='3d'\n",
    "ax.plot3D(x,y,z)\n",
    "ax.scatter3D(x[0],y[0],z[0],label = 'start')\n",
    "ax.scatter3D(x[-1],y[-1],z[-1],label = 'end')\n",
    "ax.legend()\n",
    "plt.show()"
   ]
  },
  {
   "cell_type": "code",
   "execution_count": null,
   "metadata": {},
   "outputs": [],
   "source": [
    "import networkx as nx \n",
    "\n"
   ]
  },
  {
   "cell_type": "code",
   "execution_count": null,
   "metadata": {},
   "outputs": [],
   "source": [
    "%matplotlib notebook\n",
    "# load tracks : \n",
    "filename = \"./exp090814_cd4_movie1.txt\"\n",
    "df = pd.read_csv(files[0], sep=\"\\t\", names=['cell_id', 'time_id', 'time', 'x', 'y', 'z'])   \n",
    "df['experiment'] = filename[2:11] \n",
    "df['cell_type'] = filename[12:15]\n",
    "df['movie'] = filename[21:22]\n",
    "\n",
    "def auto_cor(cell_track, dots_for_dts, dts): \n",
    "    for dt in range(0,dts):\n",
    "        dots = []\n",
    "        for i in range(len(cell_track) - 1 - dt):\n",
    "            point1 = cell_track[i]\n",
    "            point2 = cell_track[i + 1]\n",
    "            point3 = cell_track[i + dt]\n",
    "            point4 = cell_track[i + dt + 1]\n",
    "            v1 = point2 - point1\n",
    "            v2 = point4 - point3\n",
    "            dot = np.dot(v1,v2)/(norm(v1) * norm(v2))\n",
    "            dots.append(dot)\n",
    "        dots_for_dts[dt].extend(dots)\n",
    "\n",
    "dts = 80\n",
    "dots_for_dts = [[] for i in range(dts)]\n",
    "\n",
    "for cell_id in df.cell_id.unique():\n",
    "    celldf = df[df.cell_id == cell_id]\n",
    "    track = celldf[['x','y','z']].to_numpy()\n",
    "    auto_cor(track, dots_for_dts, dts)\n",
    "    \n",
    "averages = [np.mean(i) for i in dots_for_dts]\n",
    "\n",
    "plt.scatter(range(dts), averages)\n",
    "plt.show()"
   ]
  },
  {
   "cell_type": "code",
   "execution_count": null,
   "metadata": {},
   "outputs": [],
   "source": [
    "def auto_cor(cell_track, dots_for_dts, dts): \n",
    "    for dt in range(0,dts):\n",
    "        dots = []\n",
    "        for i in range(len(cell_track) - 1 - dt):\n",
    "            point1 = cell_track[i]\n",
    "            point2 = cell_track[i + 1]\n",
    "            point3 = cell_track[i + dt]\n",
    "            point4 = cell_track[i + dt + 1]\n",
    "            v1 = point2 - point1\n",
    "            v2 = point4 - point3\n",
    "            dot = np.dot(v1,v2)/(norm(v1) * norm(v2))\n",
    "            dots.append(dot)\n",
    "        dots_for_dts[dt].extend(dots)\n",
    "\n",
    "dts = 80\n",
    "dots_for_dts = [[] for i in range(dts)]\n",
    "\n",
    "\n",
    "for f in track_files:\n",
    "    track = np.loadtxt(f)\n",
    "    auto_cor(track,dots_for_dts,dts)\n",
    "    \n",
    "# for cell_id in df.cell_id.unique():\n",
    "#     celldf = df[df.cell_id == cell_id]\n",
    "#     track = celldf[['x','y','z']].to_numpy()\n",
    "#     auto_cor(track, dots_for_dts, dts)\n",
    "    \n",
    "\n",
    "    \n",
    "averages = [np.mean(i) for i in dots_for_dts]"
   ]
  }
 ],
 "metadata": {
  "kernelspec": {
   "display_name": "Python 3",
   "language": "python",
   "name": "python3"
  },
  "language_info": {
   "codemirror_mode": {
    "name": "ipython",
    "version": 3
   },
   "file_extension": ".py",
   "mimetype": "text/x-python",
   "name": "python",
   "nbconvert_exporter": "python",
   "pygments_lexer": "ipython3",
   "version": "3.7.6"
  }
 },
 "nbformat": 4,
 "nbformat_minor": 4
}
