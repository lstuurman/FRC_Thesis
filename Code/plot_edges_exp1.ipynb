{
 "cells": [
  {
   "cell_type": "code",
   "execution_count": 80,
   "metadata": {},
   "outputs": [],
   "source": [
    "import pandas as pd\n",
    "import numpy as np\n",
    "import re"
   ]
  },
  {
   "cell_type": "code",
   "execution_count": 81,
   "metadata": {},
   "outputs": [],
   "source": [
    "data = pd.read_csv('../results/edges.csv',index_col=0)"
   ]
  },
  {
   "cell_type": "code",
   "execution_count": 82,
   "metadata": {},
   "outputs": [
    {
     "data": {
      "text/plain": [
       "<bound method NDFrame.head of      n_edges   std_edges           params    type\n",
       "0     736.00    0.000000    100N_0.125V/E   power\n",
       "1     730.10    2.300000    100N_0.125V/E   power\n",
       "2     723.80    4.935585    100N_0.125V/E   power\n",
       "3     722.40    2.244994    100N_0.125V/E   power\n",
       "4     722.70    3.100000    100N_0.125V/E   power\n",
       "..       ...         ...              ...     ...\n",
       "475  6949.81  112.402642   1000N_0.125V/E  geom3d\n",
       "476  3788.37   73.037888  1000N_0.1875V/E  geom3d\n",
       "477  2444.11   63.015537    1000N_0.25V/E  geom3d\n",
       "478  1624.97  132.699846  1000N_0.3125V/E  geom3d\n",
       "479   733.80  235.063438   1000N_0.375V/E  geom3d\n",
       "\n",
       "[480 rows x 4 columns]>"
      ]
     },
     "execution_count": 82,
     "metadata": {},
     "output_type": "execute_result"
    }
   ],
   "source": [
    "data.head"
   ]
  },
  {
   "cell_type": "code",
   "execution_count": 83,
   "metadata": {},
   "outputs": [],
   "source": [
    "# create collumn expected number of edges\\\n",
    "def to_expected(string):\n",
    "    x = string.split(\"_\")\n",
    "    numbers = '[-+]?\\d*\\.\\d+|\\d+'\n",
    "    ints = [float(re.findall(numbers,i)[0]) for i in x]\n",
    "    return ints[0]/ints[1]\n",
    "\n",
    "data['expected_edges'] = data.params.apply(to_expected)\n",
    "data = data.drop('params',axis = 1)\n",
    "# data.drop('Unnamed: 0')"
   ]
  },
  {
   "cell_type": "code",
   "execution_count": 84,
   "metadata": {},
   "outputs": [],
   "source": [
    "data = data.groupby(['type','expected_edges'],as_index = False).mean()"
   ]
  },
  {
   "cell_type": "code",
   "execution_count": 86,
   "metadata": {},
   "outputs": [
    {
     "name": "stdout",
     "output_type": "stream",
     "text": [
      "      type  expected_edges   n_edges  std_edges\n",
      "0       BA      266.666667   196.000   0.000000\n",
      "1       BA      320.000000   291.000   0.000000\n",
      "2       BA      400.000000   384.000   0.000000\n",
      "3       BA      469.333333   348.000   0.000000\n",
      "4       BA      533.333333   475.000   0.000000\n",
      "..     ...             ...       ...        ...\n",
      "103  power     2666.666667  2232.365   1.054132\n",
      "104  power     3200.000000  2989.560   1.094853\n",
      "105  power     4000.000000  3949.525   2.972761\n",
      "106  power     5333.333333  4967.350   2.282233\n",
      "107  power     8000.000000  7913.710   3.474321\n",
      "\n",
      "[108 rows x 4 columns]\n"
     ]
    }
   ],
   "source": []
  },
  {
   "cell_type": "code",
   "execution_count": 54,
   "metadata": {},
   "outputs": [],
   "source": [
    "x ='100N_0.345V/E'"
   ]
  },
  {
   "cell_type": "code",
   "execution_count": 55,
   "metadata": {},
   "outputs": [
    {
     "name": "stdout",
     "output_type": "stream",
     "text": [
      "['100N', '0.345V/E']\n",
      "[100.0, 0.345]\n"
     ]
    },
    {
     "data": {
      "text/plain": [
       "289.8550724637681"
      ]
     },
     "execution_count": 55,
     "metadata": {},
     "output_type": "execute_result"
    }
   ],
   "source": [
    "to_expected(x)"
   ]
  },
  {
   "cell_type": "code",
   "execution_count": 12,
   "metadata": {},
   "outputs": [
    {
     "data": {
      "text/plain": [
       "['100']"
      ]
     },
     "execution_count": 12,
     "metadata": {},
     "output_type": "execute_result"
    }
   ],
   "source": [
    "re.findall('\\d+',x[0])"
   ]
  },
  {
   "cell_type": "code",
   "execution_count": null,
   "metadata": {},
   "outputs": [],
   "source": []
  }
 ],
 "metadata": {
  "kernelspec": {
   "display_name": "Python 3",
   "language": "python",
   "name": "python3"
  },
  "language_info": {
   "codemirror_mode": {
    "name": "ipython",
    "version": 3
   },
   "file_extension": ".py",
   "mimetype": "text/x-python",
   "name": "python",
   "nbconvert_exporter": "python",
   "pygments_lexer": "ipython3",
   "version": "3.7.6"
  }
 },
 "nbformat": 4,
 "nbformat_minor": 4
}
