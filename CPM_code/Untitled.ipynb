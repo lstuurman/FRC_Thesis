{
 "cells": [
  {
   "cell_type": "code",
   "execution_count": 24,
   "metadata": {},
   "outputs": [],
   "source": [
    "import numpy as np\n",
    "from numpy.linalg import norm\n",
    "from scipy.stats import pearsonr"
   ]
  },
  {
   "cell_type": "code",
   "execution_count": 26,
   "metadata": {},
   "outputs": [
    {
     "name": "stdout",
     "output_type": "stream",
     "text": [
      "0.9999999999999998\n",
      "0.0\n",
      "\n"
     ]
    }
   ],
   "source": [
    "# p1 = [[0,0],[0,2]]\n",
    "# p2 = [[0,0],[1,1]]\n",
    "# 3 points : \n",
    "p1 = np.array([0,0])\n",
    "p2 = np.array([1,1])\n",
    "p3 = np.array([0,2])\n",
    "p4 = np.array([1,3])\n",
    "# v1 = np.array([p1,p2])\n",
    "# v2 = np.array([p2,p3])\n",
    "v1 = p2-p1\n",
    "v2 = p3-p2\n",
    "v3 = p4-p3\n",
    "phi = np.dot(v1,v1)/(norm(v1) * norm(v1))\n",
    "print(phi)\n",
    "phi2 = np.dot(v2,v3)/(norm(v2) * norm(v3))\n",
    "print(phi2)\n",
    "print()"
   ]
  },
  {
   "cell_type": "code",
   "execution_count": 27,
   "metadata": {},
   "outputs": [
    {
     "data": {
      "text/plain": [
       "0.078125"
      ]
     },
     "execution_count": 27,
     "metadata": {},
     "output_type": "execute_result"
    }
   ],
   "source": [
    "20/256\n"
   ]
  },
  {
   "cell_type": "code",
   "execution_count": null,
   "metadata": {},
   "outputs": [],
   "source": []
  }
 ],
 "metadata": {
  "kernelspec": {
   "display_name": "Python 3",
   "language": "python",
   "name": "python3"
  },
  "language_info": {
   "codemirror_mode": {
    "name": "ipython",
    "version": 3
   },
   "file_extension": ".py",
   "mimetype": "text/x-python",
   "name": "python",
   "nbconvert_exporter": "python",
   "pygments_lexer": "ipython3",
   "version": "3.7.6"
  }
 },
 "nbformat": 4,
 "nbformat_minor": 4
}
