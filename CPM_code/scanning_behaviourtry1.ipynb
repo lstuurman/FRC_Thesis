{
 "cells": [
  {
   "cell_type": "code",
   "execution_count": 1,
   "metadata": {},
   "outputs": [],
   "source": [
    "import numpy as np\n",
    "from Bresenheim import *\n",
    "import cpm\n",
    "import matplotlib.pyplot as plt\n",
    "from scipy import ndimage"
   ]
  },
  {
   "cell_type": "code",
   "execution_count": 2,
   "metadata": {},
   "outputs": [
    {
     "name": "stdout",
     "output_type": "stream",
     "text": [
      "percentage of volume occupied by frc 17.943614721298218\n"
     ]
    }
   ],
   "source": [
    "dimension = 128\n",
    "cube = test(dimension,plotly=False,mayavi=False)"
   ]
  },
  {
   "cell_type": "code",
   "execution_count": 3,
   "metadata": {},
   "outputs": [],
   "source": [
    "# ### SET UP CPM ###\n",
    "# # params : \n",
    "# dimension = 256\n",
    "# number_of_types = 3\n",
    "# temperature = 7\n",
    "# # emmpty cube for now : \n",
    "# # cube = np.zeros((dimension,dimension,dimension))\n",
    "# # cube_with_type = np.copy(cube.astype(np.uint32))\n",
    "# # cube_with_type[cube==1] += 2**24\n",
    "# # initialize : \n",
    "# simulation = cpm.Cpm(dimension, number_of_types, temperature)\n",
    "# simulation.set_constraints(cell_type = 1,other_cell_type = 2,adhesion = 5*10**5)\n",
    "# simulation.set_constraints(cell_type = 2,target_area = 15000, lambda_area=5*10**5)\n",
    "# simulation.set_constraints(cell_type = 2,other_cell_type = 2,adhesion = 10**6)\n",
    "# simulation.set_constraints(cell_type = 2,other_cell_type = 0,adhesion = 5*10**5)\n",
    "# simulation.set_constraints(cell_type = 2, lambda_perimeter = 2, target_perimeter = 15)\n",
    "# #simulation.initialize_from_array(cube_with_type,1)\n",
    "# simulation.set_constraints(cell_type = 2, lambda_act = 30, max_act = 40) # 400,20"
   ]
  },
  {
   "cell_type": "code",
   "execution_count": 30,
   "metadata": {},
   "outputs": [],
   "source": [
    "### SET UP CPM ###\n",
    "# params from Inge: multiplicated the adhesion engergies by 10\n",
    "# and because lambda of .1 not possible here. \n",
    "dimension = 256\n",
    "number_of_types = 3\n",
    "temperature = 7\n",
    "\n",
    "# initialize : \n",
    "simulation = cpm.Cpm(dimension, number_of_types, temperature)\n",
    "# FRC :\n",
    "# cube_with_type = np.copy(cube.astype(np.uint32))\n",
    "# cube_with_type[cube==1] += 2**24\n",
    "# LAmbdas ; \n",
    "simulation.set_constraints(cell_type = 2,target_area = 1800, lambda_area=250)\n",
    "simulation.set_constraints(cell_type = 2, lambda_perimeter = 10, target_perimeter = 8600)\n",
    "simulation.set_constraints(cell_type = 2, lambda_act = 200, max_act = 42) # 160,40\n",
    "# adhesion ; \n",
    "simulation.set_constraints(cell_type = 1,other_cell_type = 2,adhesion = 150)\n",
    "simulation.set_constraints(cell_type = 2,other_cell_type = 2,adhesion = 150)\n",
    "simulation.set_constraints(cell_type = 2,other_cell_type = 0,adhesion = 50)\n",
    "# simulation.initialize_from_array(cube_with_type,1)\n"
   ]
  },
  {
   "cell_type": "code",
   "execution_count": 31,
   "metadata": {},
   "outputs": [
    {
     "name": "stdout",
     "output_type": "stream",
     "text": [
      "715.5925237294172\n"
     ]
    }
   ],
   "source": [
    "# calc perimeter approx\n",
    "r = (1800 / (4*np.pi/3))**(1/3)\n",
    "print(4*np.pi*r**2)"
   ]
  },
  {
   "cell_type": "code",
   "execution_count": 32,
   "metadata": {},
   "outputs": [
    {
     "name": "stdout",
     "output_type": "stream",
     "text": [
      "0\n",
      "0\n"
     ]
    }
   ],
   "source": [
    "# some checks : \n",
    "s = simulation.get_state()\n",
    "print(np.sum(s))\n",
    "simulation.run(10)\n",
    "print(np.sum(s))"
   ]
  },
  {
   "cell_type": "code",
   "execution_count": 33,
   "metadata": {},
   "outputs": [],
   "source": [
    "# # show network when present :\n",
    "# %gui qt\n",
    "# def show_state(s):\n",
    "#     mlab.clf()\n",
    "#     mlab.contour3d(s)"
   ]
  },
  {
   "cell_type": "code",
   "execution_count": 34,
   "metadata": {},
   "outputs": [],
   "source": [
    "# add a cell : \n",
    "simulation.add_cell(128,128,128,2)\n",
    "# add frc :\n",
    "#simulation.initialize_from_array(cube_with_type,1)\n",
    "cellids = s % 2**24\n",
    "celltypes = s // 2**24\n",
    "#show_state(s)\n",
    "#print(cellids)"
   ]
  },
  {
   "cell_type": "code",
   "execution_count": 35,
   "metadata": {},
   "outputs": [
    {
     "name": "stdout",
     "output_type": "stream",
     "text": [
      "0\n"
     ]
    }
   ],
   "source": [
    "#ndimage.measurements.center_of_mass(celltypes == 1)\n",
    "cellids = s % 2**24\n",
    "celltypes = s // 2**24\n",
    "print(len(np.where(celltypes == 1)[0]))"
   ]
  },
  {
   "cell_type": "code",
   "execution_count": 36,
   "metadata": {},
   "outputs": [],
   "source": [
    "# plt.figure(figsize=(10,10))\n",
    "# plt.imshow(celltypes[64])\n",
    "# plt.show()"
   ]
  },
  {
   "cell_type": "code",
   "execution_count": 37,
   "metadata": {},
   "outputs": [
    {
     "name": "stdout",
     "output_type": "stream",
     "text": [
      "1800\n"
     ]
    }
   ],
   "source": [
    "simulation.run(20)\n",
    "cellids = s % 2**24\n",
    "celltypes = s // 2**24\n",
    "print(len(np.where(celltypes == 2)[0]))"
   ]
  },
  {
   "cell_type": "code",
   "execution_count": null,
   "metadata": {},
   "outputs": [],
   "source": [
    "#show_state(s)"
   ]
  },
  {
   "cell_type": "code",
   "execution_count": 38,
   "metadata": {},
   "outputs": [],
   "source": [
    "# save path of single cell over couple of simulations : \n",
    "# cell needs to be able to move : \n",
    "path = np.zeros((dimension,dimension,dimension))\n",
    "act_state = simulation.get_act_state()\n",
    "cell_state = simulation.get_state()\n",
    "cofmass = []\n",
    "# simulate 100 steps\n",
    "for i in range(100):\n",
    "    simulation.run(10)\n",
    "    path = path + act_state\n",
    "    cofmass.append(ndimage.measurements.center_of_mass(cell_state))\n",
    "#show_state(path)"
   ]
  },
  {
   "cell_type": "code",
   "execution_count": null,
   "metadata": {},
   "outputs": [],
   "source": [
    "# show_state(path)"
   ]
  },
  {
   "cell_type": "code",
   "execution_count": null,
   "metadata": {},
   "outputs": [],
   "source": [
    "from mpl_toolkits import mplot3d\n",
    "%matplotlib notebook\n",
    "# plot path of center of mass  :\n",
    "x = [c[0] for c in cofmass]\n",
    "y = [c[1] for c in cofmass]\n",
    "z = [c[2] for c in cofmass]\n",
    "\n",
    "fig = plt.figure()\n",
    "ax = plt.axes(projection='3d')\n",
    "ax.plot3D(x,y,z)\n",
    "ax.scatter3D(x[0],y[0],z[0],label = 'start')\n",
    "ax.scatter3D(x[-1],y[-1],z[-1],label = 'end')\n",
    "ax.legend()"
   ]
  },
  {
   "cell_type": "code",
   "execution_count": null,
   "metadata": {},
   "outputs": [],
   "source": [
    "x = simulation.get_act_state()\n",
    "figure = plt.figure(figsize = (15,15))\n",
    "plt.imshow(x[128])\n",
    "s = simulation.get_state()\n",
    "# figure = plt.figure(figsize = (15,15))\n",
    "# plt.imshow(s[128])=0)]"
   ]
  },
  {
   "cell_type": "code",
   "execution_count": null,
   "metadata": {},
   "outputs": [],
   "source": [
    "print(x.shape)"
   ]
  },
  {
   "cell_type": "code",
   "execution_count": null,
   "metadata": {},
   "outputs": [],
   "source": [
    "len(np.where(path != 0.)[0])/256**3"
   ]
  },
  {
   "cell_type": "code",
   "execution_count": 50,
   "metadata": {},
   "outputs": [
    {
     "name": "stdout",
     "output_type": "stream",
     "text": [
      "1\n",
      "(0.0, 0.0, 0.0)\n"
     ]
    }
   ],
   "source": [
    "# TRY placing cell at boundary ; \n",
    "\n",
    "dimension = 256\n",
    "number_of_types = 3\n",
    "temperature = 7\n",
    "\n",
    "# initialize : \n",
    "simulation = cpm.Cpm(dimension, number_of_types, temperature)\n",
    "# FRC :\n",
    "# cube_with_type = np.copy(cube.astype(np.uint32))\n",
    "# cube_with_type[cube==1] += 2**24\n",
    "# LAmbdas ; \n",
    "simulation.set_constraints(cell_type = 2,target_area = 1800, lambda_area=250)\n",
    "simulation.set_constraints(cell_type = 2, lambda_perimeter = 10, target_perimeter = 8600)\n",
    "simulation.set_constraints(cell_type = 2, lambda_act = 100, max_act = 35) # 160,40\n",
    "# adhesion ; \n",
    "simulation.set_constraints(cell_type = 1,other_cell_type = 2,adhesion = 150)\n",
    "simulation.set_constraints(cell_type = 2,other_cell_type = 2,adhesion = 150)\n",
    "simulation.set_constraints(cell_type = 2,other_cell_type = 0,adhesion = 50)\n",
    "# simulation.initialize_from_array(cube_with_type,1)\n",
    "\n",
    "simulation.add_cell(0,0,0,2)\n",
    "s = simulation.get_state()\n",
    "cellids = s % 2**24\n",
    "celltypes = s // 2**24\n",
    "print(len(np.where(celltypes == 2)[0]))\n",
    "cell = celltypes[np.where(celltypes == 2)]\n",
    "c_of_masses = ndimage.measurements.center_of_mass(s)\n",
    "print(c_of_masses)"
   ]
  },
  {
   "cell_type": "code",
   "execution_count": 51,
   "metadata": {},
   "outputs": [],
   "source": [
    "simulation.run(1)"
   ]
  },
  {
   "cell_type": "code",
   "execution_count": 55,
   "metadata": {},
   "outputs": [
    {
     "name": "stdout",
     "output_type": "stream",
     "text": [
      "44  features\n",
      "(14409014.324814064,)\n"
     ]
    }
   ],
   "source": [
    "def real_cofmass(cell):\n",
    "    \"\"\" cell = simulation.get_state() % 2**24 == id \"\"\"\n",
    "    labels, num_features = ndimage.label(cell)\n",
    "    if num_features == 1:\n",
    "        return ndimage.measurements.center_of_mass(cell)\n",
    "        print('1 feature')\n",
    "    else:\n",
    "        # take biggest blob :\n",
    "        sizes = [np.count_nonzero(labels == i) for i in range(1,num_features + 1)]\n",
    "        max_indeces = np.where(sizes == np.amax(sizes))[0]\n",
    "        index = np.random.choice(max_indeces,1,replace = False)\n",
    "        labels = labels[labels != index]\n",
    "        print(num_features,' features')\n",
    "        return ndimage.measurements.center_of_mass(labels)\n",
    "    \n",
    "    \n",
    "#     elif num_fetures =< 8\n",
    "        \n",
    "#     else:# num_features > 8:\n",
    "#         # cell has some blobs not connected :\n",
    "#         # find biggest 8 blobs : \n",
    "#         sizes = [np.count_nonzero(labels == i) for i in range(1,num_features + 1)]\n",
    "#         max_indeces = np.where(sizes == max(sizes))\n",
    "#         indeces = np.random.sample(max_indeces,8,replace = False)\n",
    "#         labels = labels[indeces]\n",
    "    \n",
    "    \n",
    "cell = simulation.get_state() % 2**24 == 1\n",
    "c = real_cofmass(cell)\n",
    "print(c)"
   ]
  },
  {
   "cell_type": "code",
   "execution_count": 54,
   "metadata": {},
   "outputs": [
    {
     "name": "stdout",
     "output_type": "stream",
     "text": [
      "1\n",
      "44  features\n",
      "(nan, nan, nan)\n"
     ]
    },
    {
     "ename": "IndexError",
     "evalue": "only integers, slices (`:`), ellipsis (`...`), numpy.newaxis (`None`) and integer or boolean arrays are valid indices",
     "output_type": "error",
     "traceback": [
      "\u001b[0;31m---------------------------------------------------------------------------\u001b[0m",
      "\u001b[0;31mIndexError\u001b[0m                                Traceback (most recent call last)",
      "\u001b[0;32m<ipython-input-54-233cc49526da>\u001b[0m in \u001b[0;36m<module>\u001b[0;34m\u001b[0m\n\u001b[1;32m      9\u001b[0m     \u001b[0mc_of_masses\u001b[0m \u001b[0;34m=\u001b[0m \u001b[0mreal_cofmass\u001b[0m\u001b[0;34m(\u001b[0m\u001b[0mcell\u001b[0m\u001b[0;34m)\u001b[0m\u001b[0;34m\u001b[0m\u001b[0;34m\u001b[0m\u001b[0m\n\u001b[1;32m     10\u001b[0m     \u001b[0mprint\u001b[0m\u001b[0;34m(\u001b[0m\u001b[0mc_of_masses\u001b[0m\u001b[0;34m)\u001b[0m\u001b[0;34m\u001b[0m\u001b[0;34m\u001b[0m\u001b[0m\n\u001b[0;32m---> 11\u001b[0;31m     \u001b[0mplt\u001b[0m\u001b[0;34m.\u001b[0m\u001b[0mimshow\u001b[0m\u001b[0;34m(\u001b[0m\u001b[0ms\u001b[0m\u001b[0;34m[\u001b[0m\u001b[0mc_of_masses\u001b[0m\u001b[0;34m[\u001b[0m\u001b[0;36m0\u001b[0m\u001b[0;34m]\u001b[0m\u001b[0;34m]\u001b[0m\u001b[0;34m)\u001b[0m\u001b[0;34m\u001b[0m\u001b[0;34m\u001b[0m\u001b[0m\n\u001b[0m\u001b[1;32m     12\u001b[0m     \u001b[0mplt\u001b[0m\u001b[0;34m.\u001b[0m\u001b[0mshow\u001b[0m\u001b[0;34m(\u001b[0m\u001b[0;34m)\u001b[0m\u001b[0;34m\u001b[0m\u001b[0;34m\u001b[0m\u001b[0m\n",
      "\u001b[0;31mIndexError\u001b[0m: only integers, slices (`:`), ellipsis (`...`), numpy.newaxis (`None`) and integer or boolean arrays are valid indices"
     ]
    }
   ],
   "source": [
    "# run and visualizd : \n",
    "for i in range(10):\n",
    "    simulation.run(1)\n",
    "#     s = simulation.get_state()\n",
    "#     cellids = s % 2**24\n",
    "#     celltypes = s // 2**24\n",
    "    print(len(np.where(cellids == 1)[0]))\n",
    "    cell = simulation.get_state() % 2**24 == 1\n",
    "    c_of_masses = real_cofmass(cell)\n",
    "    print(c_of_masses)\n",
    "    plt.imshow(s[c_of_masses[0]])\n",
    "    plt.show()"
   ]
  },
  {
   "cell_type": "code",
   "execution_count": null,
   "metadata": {},
   "outputs": [],
   "source": []
  }
 ],
 "metadata": {
  "kernelspec": {
   "display_name": "Python 3",
   "language": "python",
   "name": "python3"
  },
  "language_info": {
   "codemirror_mode": {
    "name": "ipython",
    "version": 3
   },
   "file_extension": ".py",
   "mimetype": "text/x-python",
   "name": "python",
   "nbconvert_exporter": "python",
   "pygments_lexer": "ipython3",
   "version": "3.7.6"
  }
 },
 "nbformat": 4,
 "nbformat_minor": 2
}
