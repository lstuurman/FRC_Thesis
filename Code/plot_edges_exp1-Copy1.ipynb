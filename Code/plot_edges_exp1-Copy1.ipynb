{
 "cells": [
  {
   "cell_type": "code",
   "execution_count": 12,
   "metadata": {},
   "outputs": [],
   "source": [
    "import pandas as pd\n",
    "import numpy as np\n",
    "import re\n",
    "import glob\n",
    "import seaborn as sns\n",
    "sns.set_style('darkgrid')\n",
    "sns.set(font_scale = 1.4)"
   ]
  },
  {
   "cell_type": "code",
   "execution_count": 13,
   "metadata": {},
   "outputs": [],
   "source": [
    "data = pd.read_csv('../results/edges.csv',index_col=0)"
   ]
  },
  {
   "cell_type": "code",
   "execution_count": 14,
   "metadata": {},
   "outputs": [],
   "source": [
    "# add data from random graphs\n",
    "add_data = {'n_edges':[],'std_edges':[],'params':[],'type':[]}\n",
    "files = glob.glob('/home/lau/GIT/FRC_Thesis/results/random_graphs_sizes/*.txt')\n",
    "for f in files:\n",
    "    edge_list = np.loadtxt(f)\n",
    "    add_data['n_edges'].append(np.average(edge_list))\n",
    "    add_data['std_edges'].append(np.std(edge_list))\n",
    "    params = re.split('/',f)[-1]\n",
    "    add_data['params'].append(params[:-4])\n",
    "    add_data['type'].append('XREF')\n",
    "add = pd.DataFrame(add_data)\n",
    "data = data.append(add)#,ignore_index = True"
   ]
  },
  {
   "cell_type": "code",
   "execution_count": 15,
   "metadata": {},
   "outputs": [
    {
     "data": {
      "text/html": [
       "<div>\n",
       "<style scoped>\n",
       "    .dataframe tbody tr th:only-of-type {\n",
       "        vertical-align: middle;\n",
       "    }\n",
       "\n",
       "    .dataframe tbody tr th {\n",
       "        vertical-align: top;\n",
       "    }\n",
       "\n",
       "    .dataframe thead th {\n",
       "        text-align: right;\n",
       "    }\n",
       "</style>\n",
       "<table border=\"1\" class=\"dataframe\">\n",
       "  <thead>\n",
       "    <tr style=\"text-align: right;\">\n",
       "      <th></th>\n",
       "      <th>n_edges</th>\n",
       "      <th>std_edges</th>\n",
       "      <th>params</th>\n",
       "      <th>type</th>\n",
       "    </tr>\n",
       "  </thead>\n",
       "  <tbody>\n",
       "    <tr>\n",
       "      <th>0</th>\n",
       "      <td>736.00</td>\n",
       "      <td>0.000000</td>\n",
       "      <td>100N_0.125V/E</td>\n",
       "      <td>power</td>\n",
       "    </tr>\n",
       "    <tr>\n",
       "      <th>1</th>\n",
       "      <td>730.10</td>\n",
       "      <td>2.300000</td>\n",
       "      <td>100N_0.125V/E</td>\n",
       "      <td>power</td>\n",
       "    </tr>\n",
       "    <tr>\n",
       "      <th>2</th>\n",
       "      <td>723.80</td>\n",
       "      <td>4.935585</td>\n",
       "      <td>100N_0.125V/E</td>\n",
       "      <td>power</td>\n",
       "    </tr>\n",
       "    <tr>\n",
       "      <th>3</th>\n",
       "      <td>722.40</td>\n",
       "      <td>2.244994</td>\n",
       "      <td>100N_0.125V/E</td>\n",
       "      <td>power</td>\n",
       "    </tr>\n",
       "    <tr>\n",
       "      <th>4</th>\n",
       "      <td>722.70</td>\n",
       "      <td>3.100000</td>\n",
       "      <td>100N_0.125V/E</td>\n",
       "      <td>power</td>\n",
       "    </tr>\n",
       "    <tr>\n",
       "      <th>...</th>\n",
       "      <td>...</td>\n",
       "      <td>...</td>\n",
       "      <td>...</td>\n",
       "      <td>...</td>\n",
       "    </tr>\n",
       "    <tr>\n",
       "      <th>15</th>\n",
       "      <td>1612.17</td>\n",
       "      <td>39.702659</td>\n",
       "      <td>500N_0.3125VE</td>\n",
       "      <td>XREF</td>\n",
       "    </tr>\n",
       "    <tr>\n",
       "      <th>16</th>\n",
       "      <td>268.69</td>\n",
       "      <td>15.023778</td>\n",
       "      <td>100N_0.375VE</td>\n",
       "      <td>XREF</td>\n",
       "    </tr>\n",
       "    <tr>\n",
       "      <th>17</th>\n",
       "      <td>530.73</td>\n",
       "      <td>19.352961</td>\n",
       "      <td>100N_0.1875VE</td>\n",
       "      <td>XREF</td>\n",
       "    </tr>\n",
       "    <tr>\n",
       "      <th>18</th>\n",
       "      <td>3205.94</td>\n",
       "      <td>54.074915</td>\n",
       "      <td>1000N_0.3125VE</td>\n",
       "      <td>XREF</td>\n",
       "    </tr>\n",
       "    <tr>\n",
       "      <th>19</th>\n",
       "      <td>700.76</td>\n",
       "      <td>23.670708</td>\n",
       "      <td>176N_0.25VE</td>\n",
       "      <td>XREF</td>\n",
       "    </tr>\n",
       "  </tbody>\n",
       "</table>\n",
       "<p>500 rows × 4 columns</p>\n",
       "</div>"
      ],
      "text/plain": [
       "    n_edges  std_edges          params   type\n",
       "0    736.00   0.000000   100N_0.125V/E  power\n",
       "1    730.10   2.300000   100N_0.125V/E  power\n",
       "2    723.80   4.935585   100N_0.125V/E  power\n",
       "3    722.40   2.244994   100N_0.125V/E  power\n",
       "4    722.70   3.100000   100N_0.125V/E  power\n",
       "..      ...        ...             ...    ...\n",
       "15  1612.17  39.702659   500N_0.3125VE   XREF\n",
       "16   268.69  15.023778    100N_0.375VE   XREF\n",
       "17   530.73  19.352961   100N_0.1875VE   XREF\n",
       "18  3205.94  54.074915  1000N_0.3125VE   XREF\n",
       "19   700.76  23.670708     176N_0.25VE   XREF\n",
       "\n",
       "[500 rows x 4 columns]"
      ]
     },
     "execution_count": 15,
     "metadata": {},
     "output_type": "execute_result"
    }
   ],
   "source": [
    "data"
   ]
  },
  {
   "cell_type": "code",
   "execution_count": 17,
   "metadata": {},
   "outputs": [],
   "source": [
    "\n",
    "# create collumn expected number of edges\\\n",
    "def to_expected(string):\n",
    "    x = string.split(\"_\")\n",
    "    numbers = '[-+]?\\d*\\.\\d+|\\d+'\n",
    "    ints = [float(re.findall(numbers,i)[0]) for i in x]\n",
    "    return ints[0]/ints[1]\n",
    "\n",
    "def max_edges(string):\n",
    "    x = string.split(\"_\")\n",
    "    numbers = '[-+]?\\d*\\.\\d+|\\d+'\n",
    "    ints = [float(re.findall(numbers,i)[0]) for i in x]\n",
    "    N = ints[0]\n",
    "    return N*(N-1)/2\n",
    "\n",
    "data['Expected Edges'] = data.params.apply(to_expected)\n",
    "data['Possible_Edges'] = data.params.apply(max_edges)\n",
    "data['Edges'] = data['n_edges']\n",
    "data['Edges'] = data['Edges']/data['Possible_Edges']\n",
    "data['Expected Edges'] = data['Expected Edges']/data['Possible_Edges']\n",
    "# data.drop('Unnamed: 0')"
   ]
  },
  {
   "cell_type": "code",
   "execution_count": 18,
   "metadata": {},
   "outputs": [],
   "source": [
    "data = data.drop('params',axis = 1)\n",
    "data = data.drop('n_edges',axis = 1)\n",
    "data = data.groupby(['type','Expected Edges'],as_index = False).mean()"
   ]
  },
  {
   "cell_type": "code",
   "execution_count": 19,
   "metadata": {},
   "outputs": [
    {
     "data": {
      "text/html": [
       "<div>\n",
       "<style scoped>\n",
       "    .dataframe tbody tr th:only-of-type {\n",
       "        vertical-align: middle;\n",
       "    }\n",
       "\n",
       "    .dataframe tbody tr th {\n",
       "        vertical-align: top;\n",
       "    }\n",
       "\n",
       "    .dataframe thead th {\n",
       "        text-align: right;\n",
       "    }\n",
       "</style>\n",
       "<table border=\"1\" class=\"dataframe\">\n",
       "  <thead>\n",
       "    <tr style=\"text-align: right;\">\n",
       "      <th></th>\n",
       "      <th>type</th>\n",
       "      <th>Expected Edges</th>\n",
       "      <th>std_edges</th>\n",
       "      <th>Possible_Edges</th>\n",
       "      <th>Edges</th>\n",
       "    </tr>\n",
       "  </thead>\n",
       "  <tbody>\n",
       "    <tr>\n",
       "      <th>0</th>\n",
       "      <td>BA</td>\n",
       "      <td>0.005339</td>\n",
       "      <td>0.000000</td>\n",
       "      <td>499500.0</td>\n",
       "      <td>0.003996</td>\n",
       "    </tr>\n",
       "    <tr>\n",
       "      <th>1</th>\n",
       "      <td>BA</td>\n",
       "      <td>0.006406</td>\n",
       "      <td>0.000000</td>\n",
       "      <td>499500.0</td>\n",
       "      <td>0.005988</td>\n",
       "    </tr>\n",
       "    <tr>\n",
       "      <th>2</th>\n",
       "      <td>BA</td>\n",
       "      <td>0.008008</td>\n",
       "      <td>0.000000</td>\n",
       "      <td>499500.0</td>\n",
       "      <td>0.007976</td>\n",
       "    </tr>\n",
       "    <tr>\n",
       "      <th>3</th>\n",
       "      <td>BA</td>\n",
       "      <td>0.010677</td>\n",
       "      <td>0.000000</td>\n",
       "      <td>499500.0</td>\n",
       "      <td>0.009960</td>\n",
       "    </tr>\n",
       "    <tr>\n",
       "      <th>4</th>\n",
       "      <td>BA</td>\n",
       "      <td>0.010688</td>\n",
       "      <td>0.000000</td>\n",
       "      <td>124750.0</td>\n",
       "      <td>0.007984</td>\n",
       "    </tr>\n",
       "    <tr>\n",
       "      <th>...</th>\n",
       "      <td>...</td>\n",
       "      <td>...</td>\n",
       "      <td>...</td>\n",
       "      <td>...</td>\n",
       "      <td>...</td>\n",
       "    </tr>\n",
       "    <tr>\n",
       "      <th>135</th>\n",
       "      <td>power</td>\n",
       "      <td>0.064646</td>\n",
       "      <td>0.702442</td>\n",
       "      <td>4950.0</td>\n",
       "      <td>0.058665</td>\n",
       "    </tr>\n",
       "    <tr>\n",
       "      <th>136</th>\n",
       "      <td>power</td>\n",
       "      <td>0.080808</td>\n",
       "      <td>1.149820</td>\n",
       "      <td>4950.0</td>\n",
       "      <td>0.077180</td>\n",
       "    </tr>\n",
       "    <tr>\n",
       "      <th>137</th>\n",
       "      <td>power</td>\n",
       "      <td>0.091429</td>\n",
       "      <td>3.413238</td>\n",
       "      <td>15400.0</td>\n",
       "      <td>0.086469</td>\n",
       "    </tr>\n",
       "    <tr>\n",
       "      <th>138</th>\n",
       "      <td>power</td>\n",
       "      <td>0.107744</td>\n",
       "      <td>1.459997</td>\n",
       "      <td>4950.0</td>\n",
       "      <td>0.095216</td>\n",
       "    </tr>\n",
       "    <tr>\n",
       "      <th>139</th>\n",
       "      <td>power</td>\n",
       "      <td>0.161616</td>\n",
       "      <td>2.742361</td>\n",
       "      <td>4950.0</td>\n",
       "      <td>0.146830</td>\n",
       "    </tr>\n",
       "  </tbody>\n",
       "</table>\n",
       "<p>140 rows × 5 columns</p>\n",
       "</div>"
      ],
      "text/plain": [
       "      type  Expected Edges  std_edges  Possible_Edges     Edges\n",
       "0       BA        0.005339   0.000000        499500.0  0.003996\n",
       "1       BA        0.006406   0.000000        499500.0  0.005988\n",
       "2       BA        0.008008   0.000000        499500.0  0.007976\n",
       "3       BA        0.010677   0.000000        499500.0  0.009960\n",
       "4       BA        0.010688   0.000000        124750.0  0.007984\n",
       "..     ...             ...        ...             ...       ...\n",
       "135  power        0.064646   0.702442          4950.0  0.058665\n",
       "136  power        0.080808   1.149820          4950.0  0.077180\n",
       "137  power        0.091429   3.413238         15400.0  0.086469\n",
       "138  power        0.107744   1.459997          4950.0  0.095216\n",
       "139  power        0.161616   2.742361          4950.0  0.146830\n",
       "\n",
       "[140 rows x 5 columns]"
      ]
     },
     "execution_count": 19,
     "metadata": {},
     "output_type": "execute_result"
    }
   ],
   "source": [
    "data = data.sort_values(['type','Expected Edges'],ignore_index = True)\n",
    "data"
   ]
  },
  {
   "cell_type": "code",
   "execution_count": null,
   "metadata": {},
   "outputs": [],
   "source": []
  },
  {
   "cell_type": "code",
   "execution_count": 21,
   "metadata": {},
   "outputs": [
    {
     "data": {
      "text/plain": [
       "<matplotlib.collections.PathCollection at 0x7f571a101810>"
      ]
     },
     "execution_count": 21,
     "metadata": {},
     "output_type": "execute_result"
    },
    {
     "data": {
      "image/png": "[encoded data removed]",
      "text/plain": [
       "<Figure size 853.815x720 with 1 Axes>"
      ]
     },
     "metadata": {},
     "output_type": "display_data"
    }
   ],
   "source": [
    "not_ref = data[data[\"type\"] != \"XREF\"]\n",
    "fg = sns.relplot(x = \"Expected Edges\", y = \"Edges\",size = \"std_edges\",kind = 'scatter',\n",
    "                data = not_ref,sizes = (200,400),hue = \"type\",alpha=.8,height = 10,\n",
    "                facet_kws={'sharey': False, 'sharex': False})\n",
    "ref = data[data[\"type\"] == \"XREF\"]\n",
    "fg.axes[0,0].scatter(ref[\"Edges\"], ref[\"Expected Edges\"],marker = 'x',c = 'black', s = 50)"
   ]
  },
  {
   "cell_type": "code",
   "execution_count": 54,
   "metadata": {},
   "outputs": [],
   "source": []
  },
  {
   "cell_type": "code",
   "execution_count": 36,
   "metadata": {},
   "outputs": [
    {
     "data": {
      "text/plain": [
       "289.8550724637681"
      ]
     },
     "execution_count": 36,
     "metadata": {},
     "output_type": "execute_result"
    }
   ],
   "source": [
    "x ='100N_0.345V/E'\n",
    "to_expected(x)\n",
    "#re.findall('\\d+',x[0])"
   ]
  },
  {
   "cell_type": "code",
   "execution_count": 37,
   "metadata": {},
   "outputs": [
    {
     "data": {
      "text/plain": [
       "289.8550724637681"
      ]
     },
     "execution_count": 37,
     "metadata": {},
     "output_type": "execute_result"
    }
   ],
   "source": [
    "100/.345"
   ]
  },
  {
   "cell_type": "code",
   "execution_count": null,
   "metadata": {},
   "outputs": [],
   "source": []
  },
  {
   "cell_type": "code",
   "execution_count": null,
   "metadata": {},
   "outputs": [],
   "source": []
  }
 ],
 "metadata": {
  "kernelspec": {
   "display_name": "Python 3",
   "language": "python",
   "name": "python3"
  },
  "language_info": {
   "codemirror_mode": {
    "name": "ipython",
    "version": 3
   },
   "file_extension": ".py",
   "mimetype": "text/x-python",
   "name": "python",
   "nbconvert_exporter": "python",
   "pygments_lexer": "ipython3",
   "version": "3.7.6"
  }
 },
 "nbformat": 4,
 "nbformat_minor": 4
}
