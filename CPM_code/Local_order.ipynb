{
 "cells": [
  {
   "cell_type": "code",
   "execution_count": 9,
   "metadata": {},
   "outputs": [],
   "source": [
    "import pandas as pd\n",
    "import numpy as np\n",
    "import glob\n",
    "import re\n",
    "from OrderNpersist import to_vecs\n",
    "from numpy.linalg import norm\n",
    "from itertools import combinations"
   ]
  },
  {
   "cell_type": "code",
   "execution_count": 2,
   "metadata": {},
   "outputs": [],
   "source": [
    "files = glob.glob('/home/lau/Desktop/Thesis Stuff/cpmjsDensity/ACT_1log.txt')[0]\n",
    "df = pd.read_csv(files,sep = '\\t',header = None,names = ['time','cellid','type','x', 'y','z'])"
   ]
  },
  {
   "cell_type": "code",
   "execution_count": 3,
   "metadata": {},
   "outputs": [],
   "source": [
    "# convert to list of tracks : \n",
    "ids = df.cellid.unique()\n",
    "tracks = [df[df.cellid == i][['x','y','z']].to_numpy() for i in ids]"
   ]
  },
  {
   "cell_type": "code",
   "execution_count": 4,
   "metadata": {},
   "outputs": [
    {
     "name": "stdout",
     "output_type": "stream",
     "text": [
      "125\n",
      "(500, 3)\n"
     ]
    }
   ],
   "source": [
    "print(len(tracks))\n",
    "print(tracks[0].shape)"
   ]
  },
  {
   "cell_type": "code",
   "execution_count": 42,
   "metadata": {},
   "outputs": [
    {
     "name": "stdout",
     "output_type": "stream",
     "text": [
      "(125, 499, 3)\n",
      "\n"
     ]
    }
   ],
   "source": [
    "r = 10\n",
    "\n",
    "def order_radius(tracks,r):\n",
    "    vec_tracks = np.array([to_vecs(t) for t in tracks])\n",
    "    print(vec_tracks.shape)\n",
    "    print()\n",
    "    # list of order \n",
    "    orders = []\n",
    "    for i in range(len(vec_tracks[0])):\n",
    "        vecs_at_t = vec_tracks[:,i]\n",
    "        # tuple vec wit position : \n",
    "        vec_pos = [(tracks[j][i],vecs_at_t[j]) for j in range(len(vecs_at_t))]\n",
    "    #     print(tracks[0][0])\n",
    "    #     print(tracks[0][1])\n",
    "    #     print(vec_pos[0])\n",
    "        # ignore 0 vectors : (nonmoving cells)\n",
    "    #     print(len(vecs_at_t))\n",
    "        vecs_at_t = [t for t in vecs_at_t if norm(t[1]) != 0]\n",
    "        pairs = combinations(vec_pos,2)\n",
    "        #print(list(pairs))\n",
    "\n",
    "        # filter out pairs that out of radius : \n",
    "        pairs = [(v1,v2) for (v1,v2) in pairs if norm(v1[0] - v2[0]) < r]\n",
    "#         for pair in pairs:\n",
    "#             print(pair[0])\n",
    "#             print(pair[1])\n",
    "#             print('\\n')\n",
    "#         break\n",
    "        cosines = [np.dot(v1[1],v2[1])/(norm(v1[1]) * norm(v2[1])) for (v1,v2) in pairs] #if list(v1) != list(v2)\n",
    "        orders.append(np.average(cosines))\n",
    "    return orders\n",
    "\n",
    "orders = order_radius(tracks,r)\n"
   ]
  },
  {
   "cell_type": "code",
   "execution_count": 35,
   "metadata": {},
   "outputs": [
    {
     "name": "stdout",
     "output_type": "stream",
     "text": [
      "nan\n"
     ]
    }
   ],
   "source": [
    "print(np.average(orders))\n"
   ]
  },
  {
   "cell_type": "code",
   "execution_count": 27,
   "metadata": {},
   "outputs": [
    {
     "name": "stdout",
     "output_type": "stream",
     "text": [
      "0.0013036668568230663\n"
     ]
    }
   ],
   "source": [
    "print(np.average(orders))"
   ]
  },
  {
   "cell_type": "code",
   "execution_count": null,
   "metadata": {},
   "outputs": [],
   "source": []
  }
 ],
 "metadata": {
  "kernelspec": {
   "display_name": "Python 3",
   "language": "python",
   "name": "python3"
  },
  "language_info": {
   "codemirror_mode": {
    "name": "ipython",
    "version": 3
   },
   "file_extension": ".py",
   "mimetype": "text/x-python",
   "name": "python",
   "nbconvert_exporter": "python",
   "pygments_lexer": "ipython3",
   "version": "3.7.6"
  }
 },
 "nbformat": 4,
 "nbformat_minor": 4
}
