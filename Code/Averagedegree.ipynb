{
 "cells": [
  {
   "cell_type": "code",
   "execution_count": 1,
   "metadata": {},
   "outputs": [],
   "source": [
    "import pandas as pd\n",
    "import numpy as np\n",
    "import re\n",
    "import glob\n",
    "import seaborn as sns\n",
    "sns.set_style('darkgrid')\n",
    "sns.set(font_scale = 1.4)"
   ]
  },
  {
   "cell_type": "code",
   "execution_count": 8,
   "metadata": {},
   "outputs": [],
   "source": [
    "data = pd.read_csv('../results/Graphs_stuff/edges.csv',index_col=0)"
   ]
  },
  {
   "cell_type": "code",
   "execution_count": 9,
   "metadata": {},
   "outputs": [],
   "source": [
    "# add data from random graphs\n",
    "add_data = {'n_edges':[],'std_edges':[],'params':[],'type':[]}\n",
    "files = glob.glob('/home/lau/GIT/FRC_Thesis/results/random_graphs_sizes/*.txt')\n",
    "for f in files:\n",
    "    edge_list = np.loadtxt(f)\n",
    "    add_data['n_edges'].append(np.average(edge_list))\n",
    "    add_data['std_edges'].append(np.std(edge_list))\n",
    "    params = re.split('/',f)[-1]\n",
    "    add_data['params'].append(params[:-4])\n",
    "    add_data['type'].append('XREF')\n",
    "add = pd.DataFrame(add_data)\n",
    "data = data.append(add)#,ignore_index = True\n",
    "\n",
    "\n",
    "\n",
    "# create collumn expected number of edges\\\n",
    "def to_expected(string):\n",
    "    x = string.split(\"_\")\n",
    "    numbers = '[-+]?\\d*\\.\\d+|\\d+'\n",
    "    ints = [float(re.findall(numbers,i)[0]) for i in x]\n",
    "    # 2*E/N\n",
    "    # v/e = ints[1]\n",
    "    return ints[1]**-1 #2 * \n",
    "\n",
    "def extract_N(string):\n",
    "    x = string.split(\"_\")\n",
    "    numbers = '[-+]?\\d*\\.\\d+|\\d+'\n",
    "    ints = [float(re.findall(numbers,i)[0]) for i in x]\n",
    "    # 2*E/N\n",
    "    # v/e = ints[1]\n",
    "    return ints[0] #2 * \n",
    "\n",
    "def max_edges(x):\n",
    "    E,string = x\n",
    "    x = string.split(\"_\")\n",
    "    numbers = '[-+]?\\d*\\.\\d+|\\d+'\n",
    "    ints = [float(re.findall(numbers,i)[0]) for i in x]\n",
    "    N = ints[0]\n",
    "    return E/N # (2*E)\n",
    "\n",
    "data['Expected_Degree'] = data.params.apply(to_expected)\n",
    "data['Average_Degree'] = data[['n_edges','params']].apply(max_edges,axis = 1)\n",
    "data['Nodes'] = data.params.apply(extract_N)\n",
    "# data['Possible_Edges'] = data.params.apply(max_edges)\n",
    "# data['Edges'] = data['n_edges']\n",
    "# data['Edges'] = data['Edges']/data['Possible_Edges']\n",
    "# data['Expected Edges'] = data['Expected Edges']/data['Possible_Edges']"
   ]
  },
  {
   "cell_type": "code",
   "execution_count": 10,
   "metadata": {},
   "outputs": [
    {
     "data": {
      "text/html": [
       "<div>\n",
       "<style scoped>\n",
       "    .dataframe tbody tr th:only-of-type {\n",
       "        vertical-align: middle;\n",
       "    }\n",
       "\n",
       "    .dataframe tbody tr th {\n",
       "        vertical-align: top;\n",
       "    }\n",
       "\n",
       "    .dataframe thead th {\n",
       "        text-align: right;\n",
       "    }\n",
       "</style>\n",
       "<table border=\"1\" class=\"dataframe\">\n",
       "  <thead>\n",
       "    <tr style=\"text-align: right;\">\n",
       "      <th></th>\n",
       "      <th>n_edges</th>\n",
       "      <th>std_edges</th>\n",
       "      <th>params</th>\n",
       "      <th>type</th>\n",
       "      <th>Expected_Degree</th>\n",
       "      <th>Average_Degree</th>\n",
       "      <th>Nodes</th>\n",
       "    </tr>\n",
       "  </thead>\n",
       "  <tbody>\n",
       "    <tr>\n",
       "      <th>0</th>\n",
       "      <td>736.0</td>\n",
       "      <td>0.000000</td>\n",
       "      <td>100N_0.125V/E</td>\n",
       "      <td>power</td>\n",
       "      <td>8.0</td>\n",
       "      <td>7.360</td>\n",
       "      <td>100.0</td>\n",
       "    </tr>\n",
       "    <tr>\n",
       "      <th>1</th>\n",
       "      <td>730.1</td>\n",
       "      <td>2.300000</td>\n",
       "      <td>100N_0.125V/E</td>\n",
       "      <td>power</td>\n",
       "      <td>8.0</td>\n",
       "      <td>7.301</td>\n",
       "      <td>100.0</td>\n",
       "    </tr>\n",
       "    <tr>\n",
       "      <th>2</th>\n",
       "      <td>723.8</td>\n",
       "      <td>4.935585</td>\n",
       "      <td>100N_0.125V/E</td>\n",
       "      <td>power</td>\n",
       "      <td>8.0</td>\n",
       "      <td>7.238</td>\n",
       "      <td>100.0</td>\n",
       "    </tr>\n",
       "    <tr>\n",
       "      <th>3</th>\n",
       "      <td>722.4</td>\n",
       "      <td>2.244994</td>\n",
       "      <td>100N_0.125V/E</td>\n",
       "      <td>power</td>\n",
       "      <td>8.0</td>\n",
       "      <td>7.224</td>\n",
       "      <td>100.0</td>\n",
       "    </tr>\n",
       "    <tr>\n",
       "      <th>4</th>\n",
       "      <td>722.7</td>\n",
       "      <td>3.100000</td>\n",
       "      <td>100N_0.125V/E</td>\n",
       "      <td>power</td>\n",
       "      <td>8.0</td>\n",
       "      <td>7.227</td>\n",
       "      <td>100.0</td>\n",
       "    </tr>\n",
       "  </tbody>\n",
       "</table>\n",
       "</div>"
      ],
      "text/plain": [
       "   n_edges  std_edges         params   type  Expected_Degree  Average_Degree  \\\n",
       "0    736.0   0.000000  100N_0.125V/E  power              8.0           7.360   \n",
       "1    730.1   2.300000  100N_0.125V/E  power              8.0           7.301   \n",
       "2    723.8   4.935585  100N_0.125V/E  power              8.0           7.238   \n",
       "3    722.4   2.244994  100N_0.125V/E  power              8.0           7.224   \n",
       "4    722.7   3.100000  100N_0.125V/E  power              8.0           7.227   \n",
       "\n",
       "   Nodes  \n",
       "0  100.0  \n",
       "1  100.0  \n",
       "2  100.0  \n",
       "3  100.0  \n",
       "4  100.0  "
      ]
     },
     "execution_count": 10,
     "metadata": {},
     "output_type": "execute_result"
    }
   ],
   "source": [
    "data.head()"
   ]
  },
  {
   "cell_type": "code",
   "execution_count": 11,
   "metadata": {},
   "outputs": [
    {
     "data": {
      "text/plain": [
       "<matplotlib.axes._subplots.AxesSubplot at 0x7f0ec3eaeb50>"
      ]
     },
     "execution_count": 11,
     "metadata": {},
     "output_type": "execute_result"
    },
    {
     "data": {
      "image/png": "[encoded data removed]",
      "text/plain": [
       "<Figure size 432x288 with 1 Axes>"
      ]
     },
     "metadata": {},
     "output_type": "display_data"
    }
   ],
   "source": [
    "sns.distplot(data.Average_Degree,100)"
   ]
  },
  {
   "cell_type": "code",
   "execution_count": 12,
   "metadata": {},
   "outputs": [
    {
     "data": {
      "text/plain": [
       "238"
      ]
     },
     "execution_count": 12,
     "metadata": {},
     "output_type": "execute_result"
    }
   ],
   "source": [
    "len(list(data.Average_Degree.unique()))"
   ]
  },
  {
   "cell_type": "code",
   "execution_count": 13,
   "metadata": {},
   "outputs": [
    {
     "data": {
      "image/png": "[encoded data removed]",
      "text/plain": [
       "<Figure size 853.815x720 with 1 Axes>"
      ]
     },
     "metadata": {},
     "output_type": "display_data"
    }
   ],
   "source": [
    "fg = sns.relplot(x = \"Expected_Degree\", y = \"Average_Degree\",size = \"std_edges\",kind = 'scatter',\n",
    "                data = data,sizes = (200,400),hue = \"type\",alpha=.8,height = 10,\n",
    "                facet_kws={'sharey': False, 'sharex': False})"
   ]
  },
  {
   "cell_type": "code",
   "execution_count": 14,
   "metadata": {},
   "outputs": [
    {
     "data": {
      "text/plain": [
       "251"
      ]
     },
     "execution_count": 14,
     "metadata": {},
     "output_type": "execute_result"
    }
   ],
   "source": [
    "len(list(data.n_edges.unique()))"
   ]
  },
  {
   "cell_type": "code",
   "execution_count": 19,
   "metadata": {},
   "outputs": [],
   "source": [
    "uniq_tuples = data[['n_edges','Nodes']].astype('int64').drop_duplicates().values"
   ]
  },
  {
   "cell_type": "code",
   "execution_count": 20,
   "metadata": {},
   "outputs": [],
   "source": [
    "np.savetxt('../results/Graphs_stuff/unique_NEtupes',uniq_tuples)"
   ]
  },
  {
   "cell_type": "code",
   "execution_count": 21,
   "metadata": {},
   "outputs": [
    {
     "name": "stdout",
     "output_type": "stream",
     "text": [
      "[[ 736  100]\n",
      " [ 730  100]\n",
      " [ 723  100]\n",
      " [ 722  100]\n",
      " [ 729  100]\n",
      " [ 733  100]\n",
      " [ 475  100]\n",
      " [ 473  100]\n",
      " [ 470  100]\n",
      " [ 469  100]\n",
      " [ 471  100]\n",
      " [ 384  100]\n",
      " [ 382  100]\n",
      " [ 381  100]\n",
      " [ 380  100]\n",
      " [ 383  100]\n",
      " [ 291  100]\n",
      " [ 290  100]\n",
      " [ 289  100]\n",
      " [ 196  100]\n",
      " [1344  176]\n",
      " [1334  176]\n",
      " [1331  176]\n",
      " [1325  176]\n",
      " [1323  176]\n",
      " [1326  176]\n",
      " [1330  176]\n",
      " [1340  176]\n",
      " [ 855  176]\n",
      " [ 852  176]\n",
      " [ 850  176]\n",
      " [ 848  176]\n",
      " [ 849  176]\n",
      " [ 853  176]\n",
      " [ 688  176]\n",
      " [ 686  176]\n",
      " [ 685  176]\n",
      " [ 683  176]\n",
      " [ 684  176]\n",
      " [ 687  176]\n",
      " [ 519  176]\n",
      " [ 518  176]\n",
      " [ 517  176]\n",
      " [ 348  176]\n",
      " [3936  500]\n",
      " [3923  500]\n",
      " [3915  500]\n",
      " [3912  500]\n",
      " [3906  500]\n",
      " [3911  500]\n",
      " [3916  500]\n",
      " [3932  500]\n",
      " [2475  500]\n",
      " [2470  500]\n",
      " [2468  500]\n",
      " [2466  500]\n",
      " [2464  500]\n",
      " [2463  500]\n",
      " [2473  500]\n",
      " [1984  500]\n",
      " [1981  500]\n",
      " [1980  500]\n",
      " [1978  500]\n",
      " [1979  500]\n",
      " [1982  500]\n",
      " [1983  500]\n",
      " [1491  500]\n",
      " [1490  500]\n",
      " [1489  500]\n",
      " [1488  500]\n",
      " [ 996  500]\n",
      " [7936 1000]\n",
      " [7923 1000]\n",
      " [7910 1000]\n",
      " [7903 1000]\n",
      " [7895 1000]\n",
      " [7901 1000]\n",
      " [7904 1000]\n",
      " [7909 1000]\n",
      " [7921 1000]\n",
      " [7931 1000]\n",
      " [4975 1000]\n",
      " [4969 1000]\n",
      " [4966 1000]\n",
      " [4964 1000]\n",
      " [4961 1000]\n",
      " [4962 1000]\n",
      " [4974 1000]\n",
      " [3984 1000]\n",
      " [3982 1000]\n",
      " [3980 1000]\n",
      " [3978 1000]\n",
      " [3977 1000]\n",
      " [3979 1000]\n",
      " [3981 1000]\n",
      " [3983 1000]\n",
      " [2991 1000]\n",
      " [2990 1000]\n",
      " [2989 1000]\n",
      " [2988 1000]\n",
      " [1996 1000]\n",
      " [ 803  100]\n",
      " [ 531  100]\n",
      " [ 399  100]\n",
      " [ 319  100]\n",
      " [ 267  100]\n",
      " [1414  176]\n",
      " [ 939  176]\n",
      " [ 704  176]\n",
      " [ 568  176]\n",
      " [ 471  176]\n",
      " [3983  500]\n",
      " [2668  500]\n",
      " [2002  500]\n",
      " [1603  500]\n",
      " [1342  500]\n",
      " [7996 1000]\n",
      " [5328 1000]\n",
      " [4003 1000]\n",
      " [3222 1000]\n",
      " [2691 1000]\n",
      " [ 800  100]\n",
      " [ 500  100]\n",
      " [ 400  100]\n",
      " [ 300  100]\n",
      " [ 200  100]\n",
      " [1408  176]\n",
      " [ 880  176]\n",
      " [ 528  176]\n",
      " [ 352  176]\n",
      " [4000  500]\n",
      " [2500  500]\n",
      " [2000  500]\n",
      " [1500  500]\n",
      " [1000  500]\n",
      " [8000 1000]\n",
      " [5000 1000]\n",
      " [4000 1000]\n",
      " [3000 1000]\n",
      " [2000 1000]\n",
      " [ 823  100]\n",
      " [ 528  100]\n",
      " [ 386  100]\n",
      " [ 297  100]\n",
      " [ 245  100]\n",
      " [1400  176]\n",
      " [ 896  176]\n",
      " [ 657  176]\n",
      " [ 433  176]\n",
      " [3766  500]\n",
      " [2615  500]\n",
      " [2078  500]\n",
      " [1784  500]\n",
      " [8309 1000]\n",
      " [6354 1000]\n",
      " [5474 1000]\n",
      " [4958 1000]\n",
      " [4639 1000]\n",
      " [ 810  100]\n",
      " [ 513  100]\n",
      " [ 340  100]\n",
      " [1362  176]\n",
      " [1009  176]\n",
      " [ 792  176]\n",
      " [ 642  176]\n",
      " [ 520  176]\n",
      " [4439  500]\n",
      " [2627  500]\n",
      " [1730  500]\n",
      " [1222  500]\n",
      " [ 863  500]\n",
      " [6949 1000]\n",
      " [3788 1000]\n",
      " [2444 1000]\n",
      " [1624 1000]\n",
      " [ 733 1000]\n",
      " [ 565  176]\n",
      " [5330 1000]\n",
      " [ 320  100]\n",
      " [1347  500]\n",
      " [8002 1000]\n",
      " [ 474  176]\n",
      " [3997 1000]\n",
      " [ 941  176]\n",
      " [1406  176]\n",
      " [1993  500]\n",
      " [3995  500]\n",
      " [2675  500]\n",
      " [2686 1000]\n",
      " [1612  500]\n",
      " [ 268  100]\n",
      " [ 530  100]\n",
      " [3205 1000]\n",
      " [ 700  176]]\n"
     ]
    }
   ],
   "source": [
    "print(uniq_tuples)"
   ]
  },
  {
   "cell_type": "code",
   "execution_count": 54,
   "metadata": {},
   "outputs": [],
   "source": [
    "import networkx as nx\n",
    "g = nx.erdos_renyi_graph(176,p)"
   ]
  },
  {
   "cell_type": "code",
   "execution_count": null,
   "metadata": {},
   "outputs": [],
   "source": [
    "while nx.is_connected(g) == False:\n",
    "    g = nx.erdos_renyi_graph(176,p)\n",
    "    g.number_of_edges()"
   ]
  },
  {
   "cell_type": "code",
   "execution_count": 48,
   "metadata": {},
   "outputs": [
    {
     "data": {
      "text/plain": [
       "2.6931818181818183"
      ]
     },
     "execution_count": 48,
     "metadata": {},
     "output_type": "execute_result"
    }
   ],
   "source": [
    "nx.is_connected(g)\n",
    "474/176"
   ]
  },
  {
   "cell_type": "code",
   "execution_count": 46,
   "metadata": {},
   "outputs": [
    {
     "data": {
      "text/plain": [
       "800.0"
      ]
     },
     "execution_count": 46,
     "metadata": {},
     "output_type": "execute_result"
    }
   ],
   "source": [
    "100 * (100/800) ** -1"
   ]
  },
  {
   "cell_type": "code",
   "execution_count": 49,
   "metadata": {},
   "outputs": [],
   "source": [
    "\n",
    "def ER_p_value2(N,E):\n",
    "    # helper function to find p parameter resulting in certian V/E ratio\n",
    "    n_edges = N * (N/E)**-1\n",
    "    return 2*n_edges / (N * (N-1))\n",
    "\n",
    "p = ER_p_value2(474,176)"
   ]
  },
  {
   "cell_type": "code",
   "execution_count": 50,
   "metadata": {},
   "outputs": [
    {
     "data": {
      "text/plain": [
       "0.001570012756353645"
      ]
     },
     "execution_count": 50,
     "metadata": {},
     "output_type": "execute_result"
    }
   ],
   "source": [
    "p"
   ]
  },
  {
   "cell_type": "code",
   "execution_count": null,
   "metadata": {},
   "outputs": [],
   "source": []
  }
 ],
 "metadata": {
  "kernelspec": {
   "display_name": "Python 3",
   "language": "python",
   "name": "python3"
  },
  "language_info": {
   "codemirror_mode": {
    "name": "ipython",
    "version": 3
   },
   "file_extension": ".py",
   "mimetype": "text/x-python",
   "name": "python",
   "nbconvert_exporter": "python",
   "pygments_lexer": "ipython3",
   "version": "3.7.6"
  }
 },
 "nbformat": 4,
 "nbformat_minor": 4
}
