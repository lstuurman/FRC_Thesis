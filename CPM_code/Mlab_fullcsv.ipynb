{
 "cells": [
  {
   "cell_type": "code",
   "execution_count": 1,
   "metadata": {},
   "outputs": [],
   "source": [
    "import pandas as pd\n",
    "import numpy as np\n",
    "import glob\n",
    "from OrderNpersist import Persist_tracks,Order_tracks,order_radius,to_vecs\n",
    "from analyse_tracks import new_auto\n",
    "from numpy.linalg import norm"
   ]
  },
  {
   "cell_type": "code",
   "execution_count": 2,
   "metadata": {},
   "outputs": [],
   "source": [
    "files = glob.glob('../data/real_cells/exp*.txt')\n",
    "# goal : \n",
    "# speed , persist, order, local order per video\n",
    "# std of all these measures : "
   ]
  },
  {
   "cell_type": "code",
   "execution_count": 8,
   "metadata": {},
   "outputs": [],
   "source": [
    "def Order_tracks(vec_tracks):\n",
    "    # list of order \n",
    "    orders = []\n",
    "    print(len(vec_tracks))\n",
    "    print(vec_tracks[0].shape)\n",
    "    for i in range(len(vec_tracks[0])):\n",
    "        print(i)\n",
    "        print(vec_tracks.shape)\n",
    "        vecs_at_t = vec_tracks[:,i]\n",
    "        # ignore 0 vectors : (nonmoving cells)\n",
    "        vecs_at_t = [t for t in vecs_at_t if norm(t) != 0]\n",
    "\n",
    "        pairs = combinations(vecs_at_t,2)\n",
    "        cosines = [np.dot(v1,v2)/(norm(v1) * norm(v2)) for (v1,v2) in pairs] #if list(v1) != list(v2)\n",
    "        orders.append(np.average(cosines))\n",
    "\n",
    "    return orders"
   ]
  },
  {
   "cell_type": "code",
   "execution_count": 13,
   "metadata": {},
   "outputs": [
    {
     "name": "stdout",
     "output_type": "stream",
     "text": [
      "(32, 3)\n",
      "121\n",
      "121\n",
      "(31, 3)\n",
      "0\n",
      "(121,)\n"
     ]
    },
    {
     "ename": "IndexError",
     "evalue": "too many indices for array",
     "output_type": "error",
     "traceback": [
      "\u001b[0;31m---------------------------------------------------------------------------\u001b[0m",
      "\u001b[0;31mIndexError\u001b[0m                                Traceback (most recent call last)",
      "\u001b[0;32m<ipython-input-13-a6a8b6592872>\u001b[0m in \u001b[0;36m<module>\u001b[0;34m\u001b[0m\n\u001b[1;32m     29\u001b[0m \u001b[0;34m\u001b[0m\u001b[0m\n\u001b[1;32m     30\u001b[0m     \u001b[0;31m# order :\u001b[0m\u001b[0;34m\u001b[0m\u001b[0;34m\u001b[0m\u001b[0;34m\u001b[0m\u001b[0m\n\u001b[0;32m---> 31\u001b[0;31m     \u001b[0mordrs\u001b[0m \u001b[0;34m=\u001b[0m \u001b[0mOrder_tracks\u001b[0m\u001b[0;34m(\u001b[0m\u001b[0mvec_tracks\u001b[0m\u001b[0;34m)\u001b[0m\u001b[0;34m\u001b[0m\u001b[0;34m\u001b[0m\u001b[0m\n\u001b[0m\u001b[1;32m     32\u001b[0m     \u001b[0mordr\u001b[0m \u001b[0;34m=\u001b[0m \u001b[0mnp\u001b[0m\u001b[0;34m.\u001b[0m\u001b[0maverage\u001b[0m\u001b[0;34m(\u001b[0m\u001b[0mordrs\u001b[0m\u001b[0;34m)\u001b[0m\u001b[0;34m\u001b[0m\u001b[0;34m\u001b[0m\u001b[0m\n\u001b[1;32m     33\u001b[0m     \u001b[0mstd_ordr\u001b[0m \u001b[0;34m=\u001b[0m \u001b[0mnp\u001b[0m\u001b[0;34m.\u001b[0m\u001b[0mstd\u001b[0m\u001b[0;34m(\u001b[0m\u001b[0mordrs\u001b[0m\u001b[0;34m)\u001b[0m\u001b[0;34m\u001b[0m\u001b[0;34m\u001b[0m\u001b[0m\n",
      "\u001b[0;32m<ipython-input-8-6968fe4a6fc0>\u001b[0m in \u001b[0;36mOrder_tracks\u001b[0;34m(vec_tracks)\u001b[0m\n\u001b[1;32m      7\u001b[0m         \u001b[0mprint\u001b[0m\u001b[0;34m(\u001b[0m\u001b[0mi\u001b[0m\u001b[0;34m)\u001b[0m\u001b[0;34m\u001b[0m\u001b[0;34m\u001b[0m\u001b[0m\n\u001b[1;32m      8\u001b[0m         \u001b[0mprint\u001b[0m\u001b[0;34m(\u001b[0m\u001b[0mvec_tracks\u001b[0m\u001b[0;34m.\u001b[0m\u001b[0mshape\u001b[0m\u001b[0;34m)\u001b[0m\u001b[0;34m\u001b[0m\u001b[0;34m\u001b[0m\u001b[0m\n\u001b[0;32m----> 9\u001b[0;31m         \u001b[0mvecs_at_t\u001b[0m \u001b[0;34m=\u001b[0m \u001b[0mvec_tracks\u001b[0m\u001b[0;34m[\u001b[0m\u001b[0;34m:\u001b[0m\u001b[0;34m,\u001b[0m\u001b[0mi\u001b[0m\u001b[0;34m]\u001b[0m\u001b[0;34m\u001b[0m\u001b[0;34m\u001b[0m\u001b[0m\n\u001b[0m\u001b[1;32m     10\u001b[0m         \u001b[0;31m# ignore 0 vectors : (nonmoving cells)\u001b[0m\u001b[0;34m\u001b[0m\u001b[0;34m\u001b[0m\u001b[0;34m\u001b[0m\u001b[0m\n\u001b[1;32m     11\u001b[0m         \u001b[0mvecs_at_t\u001b[0m \u001b[0;34m=\u001b[0m \u001b[0;34m[\u001b[0m\u001b[0mt\u001b[0m \u001b[0;32mfor\u001b[0m \u001b[0mt\u001b[0m \u001b[0;32min\u001b[0m \u001b[0mvecs_at_t\u001b[0m \u001b[0;32mif\u001b[0m \u001b[0mnorm\u001b[0m\u001b[0;34m(\u001b[0m\u001b[0mt\u001b[0m\u001b[0;34m)\u001b[0m \u001b[0;34m!=\u001b[0m \u001b[0;36m0\u001b[0m\u001b[0;34m]\u001b[0m\u001b[0;34m\u001b[0m\u001b[0;34m\u001b[0m\u001b[0m\n",
      "\u001b[0;31mIndexError\u001b[0m: too many indices for array"
     ]
    }
   ],
   "source": [
    "rows  = []\n",
    "deviaton_rows = []\n",
    "\n",
    "for filename in files: \n",
    "    # extract tracks : \n",
    "    df = pd.read_csv(filename, sep=\"\\t\", names=['cell_id', 'time_id', 'time', 'x', 'y', 'z'])   \n",
    "    df['experiment'] = filename[19:28]\n",
    "    df['cell_type'] = filename[29:32]\n",
    "    df['movie'] = filename[38:39]\n",
    "    ids = df.cell_id.unique()\n",
    "    tracks = [df[df.cell_id == i][['x','y','z']].to_numpy() for i in ids]\n",
    "    # filter out super short tracks: \n",
    "    tracks = [t for t in tracks if len(t) > 10]\n",
    "    print(tracks[0].shape)\n",
    "    print(len(tracks))\n",
    "    \n",
    "    # speed : \n",
    "    vec_tracks = np.array([to_vecs(t) for t in tracks])\n",
    "    speeds = [[norm(v) for v in vec_track] for vec_track in vec_tracks]\n",
    "    speeds = [item for sublist in speeds for item in sublist]\n",
    "    speed = np.mean(speeds)\n",
    "    std_speed = np.std(speeds)\n",
    "    \n",
    "    # peristance : \n",
    "    autocors = [new_auto(t) for t in tracks]\n",
    "    half_times = Persist_tracks(autocors)\n",
    "    ht = np.average(half_times)\n",
    "    std_ht = np.std(half_times)\n",
    "    \n",
    "    # order : \n",
    "    ordrs = Order_tracks(vec_tracks)\n",
    "    ordr = np.average(ordrs)\n",
    "    std_ordr = np.std(ordrs)\n",
    "    lcl_ordrs = order_radius(tracks,20)\n",
    "    lcl_ordr = np.average(lcl_ordrs)\n",
    "    std_lcl = np.std(lcl_ordrs)\n",
    "    \n",
    "    rows.append([df.cell_type,df.experiment,speed,ht,ordr,lcl_ordr])\n",
    "    deviation_rows.append([df.cell_type,df.experiment,std_speed,std_ht,std_ordr,std_lcl])"
   ]
  },
  {
   "cell_type": "code",
   "execution_count": null,
   "metadata": {},
   "outputs": [],
   "source": []
  }
 ],
 "metadata": {
  "kernelspec": {
   "display_name": "Python 3",
   "language": "python",
   "name": "python3"
  },
  "language_info": {
   "codemirror_mode": {
    "name": "ipython",
    "version": 3
   },
   "file_extension": ".py",
   "mimetype": "text/x-python",
   "name": "python",
   "nbconvert_exporter": "python",
   "pygments_lexer": "ipython3",
   "version": "3.7.6"
  }
 },
 "nbformat": 4,
 "nbformat_minor": 4
}
