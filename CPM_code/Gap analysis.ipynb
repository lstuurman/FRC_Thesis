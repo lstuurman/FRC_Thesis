{
 "cells": [
  {
   "cell_type": "code",
   "execution_count": 1,
   "metadata": {},
   "outputs": [],
   "source": [
    "from Bresenheim import *\n",
    "import pickle\n",
    "import matplotlib.pyplot as plt\n",
    "from itertools import product\n",
    "from scipy import ndimage"
   ]
  },
  {
   "cell_type": "code",
   "execution_count": 2,
   "metadata": {},
   "outputs": [],
   "source": [
    "# creat frc and save\n",
    "# cube = test(256)\n",
    "# pickle.dump(cube,open('testdat/frc.pkl','wb'))"
   ]
  },
  {
   "cell_type": "code",
   "execution_count": 12,
   "metadata": {},
   "outputs": [],
   "source": [
    "cube = pickle.load(open('testdat/frc.pkl','rb'))"
   ]
  },
  {
   "cell_type": "code",
   "execution_count": 13,
   "metadata": {},
   "outputs": [
    {
     "name": "stdout",
     "output_type": "stream",
     "text": [
      "168\n",
      "0\n",
      "(4, 256, 256)\n",
      "(256, 256)\n",
      "[[0. 0. 0. ... 0. 0. 0.]\n",
      " [0. 0. 0. ... 0. 0. 0.]\n",
      " [0. 0. 0. ... 0. 0. 0.]\n",
      " ...\n",
      " [0. 0. 0. ... 0. 0. 0.]\n",
      " [0. 0. 0. ... 0. 0. 0.]\n",
      " [0. 0. 0. ... 0. 0. 0.]]\n"
     ]
    }
   ],
   "source": [
    "# random position for slice \n",
    "index = np.random.randint(0,252)\n",
    "axes = np.random.randint(3)\n",
    "print(index)\n",
    "print(axes)\n",
    "\n",
    "cut = np.rot90(cube,axes)[index:index + 4]\n",
    "compressed_cut = np.sum(cut,axis = 0)\n",
    "print(cut.shape)\n",
    "print(compressed_cut.shape)\n",
    "print(compressed_cut)"
   ]
  },
  {
   "cell_type": "code",
   "execution_count": 14,
   "metadata": {},
   "outputs": [],
   "source": [
    "# d = [4] * 256\n",
    "# enlarge_mat = np.diag(d)\n",
    "# b = compressed_cut * enlarge_mat\n",
    "\n",
    "# try to scale it down : \n",
    "# help_array = np.ones()\n",
    "# c2 = np.kron(cube)\n",
    "# input_size = 256\n",
    "# output_size = 64\n",
    "# bin_size = input_size // output_size\n",
    "# small_image = large_image.reshape((1, output_size, bin_size,\n",
    "#                                       output_size, bin_size)).max(4).max(2)\n",
    "# c2 = np.resize(cube,(50,50,50))"
   ]
  },
  {
   "cell_type": "code",
   "execution_count": 18,
   "metadata": {},
   "outputs": [
    {
     "data": {
      "text/plain": [
       "<matplotlib.image.AxesImage at 0x7f22b0c5be50>"
      ]
     },
     "execution_count": 18,
     "metadata": {},
     "output_type": "execute_result"
    },
    {
     "data": {
      "image/png": "[encoded data removed]",
      "text/plain": [
       "<Figure size 432x288 with 1 Axes>"
      ]
     },
     "metadata": {
      "needs_background": "light"
     },
     "output_type": "display_data"
    }
   ],
   "source": [
    "slicee = cube[128:128+4,:32,:32]\n",
    "plt.imshow(np.sum(slicee,axis = 0))"
   ]
  },
  {
   "cell_type": "code",
   "execution_count": 15,
   "metadata": {},
   "outputs": [],
   "source": [
    "c = np.kron(compressed_cut, np.ones((4,4)))"
   ]
  },
  {
   "cell_type": "code",
   "execution_count": 16,
   "metadata": {},
   "outputs": [
    {
     "data": {
      "text/plain": [
       "<matplotlib.image.AxesImage at 0x7f22b0d87a10>"
      ]
     },
     "execution_count": 16,
     "metadata": {},
     "output_type": "execute_result"
    },
    {
     "data": {
      "image/png": "[encoded data removed]",
      "text/plain": [
       "<Figure size 432x288 with 1 Axes>"
      ]
     },
     "metadata": {
      "needs_background": "light"
     },
     "output_type": "display_data"
    }
   ],
   "source": [
    "plt.imshow(c)"
   ]
  },
  {
   "cell_type": "code",
   "execution_count": null,
   "metadata": {},
   "outputs": [],
   "source": [
    "plt.imshow(c * 200)\n",
    "plt.show()\n",
    "width,height = c.shape\n",
    "print(width,height)\n",
    "print(c)\n",
    "x_axis = np.arange(512)\n",
    "y_axis = np.arange(512)\n",
    "#[216] [369] 39\n",
    "\n",
    "mask = (x_axis[np.newaxis,:]-369)**2 + (y_axis[:,np.newaxis]-216)**2 < 39**2\n",
    "mask = mask  * (1/.39)\n",
    "print(mask)\n",
    "plt.imshow(mask)\n",
    "print(mask)\n",
    "plt.show()\n",
    "indeces = np.where(mask)\n",
    "print(indeces)\n",
    "print(sum(c[indeces]))\n",
    "# c = c + mask\n",
    "plt.imshow(c)"
   ]
  },
  {
   "cell_type": "code",
   "execution_count": null,
   "metadata": {},
   "outputs": [],
   "source": [
    "def fill_circles(M):\n",
    "    # pad with 4s to prevent circles over boundary:\n",
    "    M = np.pad(M,1,'constant', constant_values = 4)\n",
    "    \n",
    "    width,height = M.shape\n",
    "    # blueprint for circular masks :\n",
    "    x_axis = np.arange(width)\n",
    "    y_axis = np.arange(height)\n",
    "    \n",
    "    # negative of image to calculate maximim dists\n",
    "    negative = M == 0.\n",
    "    dist_matrix = ndimage.distance_transform_edt(negative)\n",
    "    max_dist = int(max(dist_matrix.flatten()))\n",
    "    \n",
    "    # cut of boundaries : \n",
    "    cut_off = int(.5 * max_dist)\n",
    "    dists = dist_matrix[cut_off:-cut_off,cut_off:-cut_off]\n",
    "    cx,cy = np.where(dists == dists.max())\n",
    "    cx += cut_off\n",
    "    cy += cut_off\n",
    "    max_radius = int(dist_matrix[cx,cy][0])\n",
    "    \n",
    "    # list for color values of circles : \n",
    "    colors = np.linspace(1,3,max_radius + 1)[::-1]\n",
    "    # save radii used : \n",
    "    radii_list = []\n",
    "    # frames for animation :\n",
    "    dist_frames = []\n",
    "    frames = []\n",
    "    \n",
    "    while max_radius > 7:\n",
    "        # place largest possible circle at possition with max distance \n",
    "        mask = (x_axis[np.newaxis,:]-cy[0])**2 + (y_axis[:,np.newaxis]-cx[0])**2 < max_radius**2\n",
    "        indeces = np.where(mask)\n",
    "        # set mask to nice collor value\n",
    "        mask = mask  * colors[max_radius]\n",
    "\n",
    "        if sum(M[indeces]) != 0.: # Check if circle actually fits\n",
    "            max_radius -= 1 \n",
    "        else:\n",
    "            # update :\n",
    "            M = M + mask\n",
    "            negative = M == 0.\n",
    "            dist_matrix = ndimage.distance_transform_edt(negative)\n",
    "            radii_list.append(max_radius)\n",
    "            \n",
    "            # show distances between gaps : \n",
    "            #d_frame = plt.imshow(dist_matrix,animated = True)#, animated = True\n",
    "            #d_frame.colorbar()\n",
    "            dist_frames.append(dist_matrix)\n",
    "            \n",
    "            # find new circle : \n",
    "            max_dist = int(max(dist_matrix.flatten()))\n",
    "            # cut of boundaries : \n",
    "            cut_off = int( .5 *  max_dist)#.5 *\n",
    "            dists = dist_matrix[cut_off:-cut_off,cut_off:-cut_off]\n",
    "            cx,cy = np.where(dists == dists.max())\n",
    "            cx += cut_off\n",
    "            cy += cut_off\n",
    "            max_radius = int(dist_matrix[cx,cy][0])\n",
    "            \n",
    "            # show updated matrix\n",
    "            #frame = plt.imshow(M,animated = True)\n",
    "            #frame.colorbar()\n",
    "            frames.append(M)\n",
    "            \n",
    "    return M,radii_list,dist_frames,frames\n",
    "    #max_radii = [i for i in sorted(dist_mattix.flatten())[::-1] if i > 2.]\n",
    "    "
   ]
  },
  {
   "cell_type": "code",
   "execution_count": null,
   "metadata": {},
   "outputs": [],
   "source": [
    "filled,radii,frames1,frames2 = fill_circles(c)"
   ]
  },
  {
   "cell_type": "code",
   "execution_count": null,
   "metadata": {
    "scrolled": false
   },
   "outputs": [],
   "source": [
    "import numpy as np\n",
    "import matplotlib.pyplot as plt\n",
    "import matplotlib.animation as animation\n",
    "%matplotlib notebook\n",
    "\n",
    "fps = 30\n",
    "nSeconds = 5\n",
    "\n",
    "fig = plt.figure(figsize = (10,10))\n",
    "f1 = frames2[0]\n",
    "im = plt.imshow(f1)\n",
    "\n",
    "def animate(i):\n",
    "    im.set_array(frames2[i])\n",
    "    return [im]\n",
    "\n",
    "anim = animation.FuncAnimation(fig,animate,frames = nSeconds * fps,\n",
    "                              interval = 1000/fps)\n",
    "\n",
    "anim.save('gap_filling_animation.mp4')\n",
    "\n",
    "plt.show()"
   ]
  },
  {
   "cell_type": "code",
   "execution_count": null,
   "metadata": {},
   "outputs": [],
   "source": [
    "\n",
    "    "
   ]
  },
  {
   "cell_type": "code",
   "execution_count": null,
   "metadata": {},
   "outputs": [],
   "source": [
    "import matplotlib.animation as animation\n",
    "%matplotlib notebook\n",
    "fig = plt.figure()\n",
    "ani = animation.ArtistAnimation(fig, frames2, interval=100, blit=True,\n",
    "                                repeat_delay=1000)\n",
    "plt.show()"
   ]
  },
  {
   "cell_type": "code",
   "execution_count": null,
   "metadata": {},
   "outputs": [],
   "source": [
    "for f in "
   ]
  },
  {
   "cell_type": "code",
   "execution_count": null,
   "metadata": {},
   "outputs": [],
   "source": [
    "plt.hist(radii,20)"
   ]
  },
  {
   "cell_type": "code",
   "execution_count": null,
   "metadata": {},
   "outputs": [],
   "source": [
    "import numpy as np\n",
    "import matplotlib.pyplot as plt\n",
    "import matplotlib.animation as animation\n",
    "%matplotlib notebook\n",
    "fig = plt.figure()\n",
    "\n",
    "\n",
    "def f(x, y):\n",
    "    return np.sin(x) + np.cos(y)\n",
    "#plt.ioff()\n",
    "x = np.linspace(0, 2 * np.pi, 120)\n",
    "y = np.linspace(0, 2 * np.pi, 100).reshape(-1, 1)\n",
    "# ims is a list of lists, each row is a list of artists to draw in the\n",
    "# current frame; here we are just animating one artist, the image, in\n",
    "# each frame\n",
    "ims = []\n",
    "for i in range(60):\n",
    "    x += np.pi / 15.\n",
    "    y += np.pi / 20.\n",
    "    im = plt.imshow(f(x, y), animated=True)\n",
    "#     plt.imshow(f(x,y))\n",
    "    \n",
    "#     plt.show()\n",
    "    ims.append([im])\n",
    "\n",
    "ani = animation.ArtistAnimation(fig, ims, interval=50, blit=True,\n",
    "                                repeat_delay=1000)\n",
    "\n",
    "#ani.save('dynamic_images.mp4')\n",
    "\n",
    "plt.show()"
   ]
  },
  {
   "cell_type": "code",
   "execution_count": null,
   "metadata": {},
   "outputs": [],
   "source": [
    "x = compressed_cut[:25,:25]\n",
    "plt.imshow(x)\n",
    "plt.show()\n",
    "\n",
    "# create negative : \n",
    "neg = compressed_cut == 0.\n",
    "plt.imshow(neg)\n",
    "plt.show()\n",
    "dists = ndimage.distance_transform_edt(neg)\n",
    "\n",
    "max_radii = [i for i in sorted(dists.flatten())[::-1] if i > 2.]\n",
    "print(max_radii)\n",
    "a,b = np.where(dists == dists.max())\n",
    "max_radius = dists[a,b]\n",
    "plt.imshow(dists)\n",
    "print(max_radius)"
   ]
  },
  {
   "cell_type": "code",
   "execution_count": null,
   "metadata": {},
   "outputs": [],
   "source": [
    "flat_distances = dists.flatten()\n",
    "plt.hist(flat_distances,100)\n",
    "plt.show()"
   ]
  },
  {
   "cell_type": "code",
   "execution_count": null,
   "metadata": {},
   "outputs": [],
   "source": [
    "def fill_circlesNAIF(M):\n",
    "    \"\"\" fill non zero spots with larges possible circels \"\"\"\n",
    "    width,height = M.shape\n",
    "    \n",
    "    # calculate max radius : \n",
    "    neg = M == 0.\n",
    "    dists = ndimage.distance_transform_edt(neg) # distances between nonzero elements\n",
    "#     x,y = np.where(dists == dists.max())\n",
    "#     max_radius = dists[a,b][0]\n",
    "#     radii = np.arange(1,max(dists))[::-1]\n",
    "    \n",
    "    # copy to store circles in ; \n",
    "    cop = np.array(M,copy = True)\n",
    "    # blueprint for circular masks :\n",
    "    x_axis = np.arange(width)\n",
    "    y_axis = np.arange(height)\n",
    "    \n",
    "    for r in radii:\n",
    "        # list of possible position of center of circle:\n",
    "        axis_range = np.arange(r,width - r)\n",
    "        centers = list(product(axis_range,axis_range))\n",
    "        print(r)\n",
    "        print(len(centers))\n",
    "        for c in centers:\n",
    "            mask = (x_axis[np.newaxis,:]-c[0])**2 + (y_axis[:,np.newaxis]-c[1])**2 < r**2\n",
    "            if sum(M[mask]) == 0.:\n",
    "                M[mask] = float(r + width)\n",
    "                plt.imshow(M)\n",
    "                plt.show()\n",
    "                print('added circle with radius ', r)\n",
    "    return M"
   ]
  }
 ],
 "metadata": {
  "kernelspec": {
   "display_name": "Python 3",
   "language": "python",
   "name": "python3"
  },
  "language_info": {
   "codemirror_mode": {
    "name": "ipython",
    "version": 3
   },
   "file_extension": ".py",
   "mimetype": "text/x-python",
   "name": "python",
   "nbconvert_exporter": "python",
   "pygments_lexer": "ipython3",
   "version": "3.7.6"
  }
 },
 "nbformat": 4,
 "nbformat_minor": 4
}
